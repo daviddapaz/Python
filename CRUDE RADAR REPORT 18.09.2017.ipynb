{
 "cells": [
  {
   "cell_type": "code",
   "execution_count": 240,
   "metadata": {
    "collapsed": true
   },
   "outputs": [],
   "source": [
    "import numpy as np\n",
    "import pandas as pd\n",
    "\n",
    "import warnings\n",
    "warnings.filterwarnings(\"ignore\")"
   ]
  },
  {
   "cell_type": "markdown",
   "metadata": {},
   "source": [
    "## Importing Analytical Report and calculating data"
   ]
  },
  {
   "cell_type": "code",
   "execution_count": 241,
   "metadata": {
    "collapsed": false
   },
   "outputs": [],
   "source": [
    "df = pd.read_excel('0FLATANALYTICALexport.XLSX')"
   ]
  },
  {
   "cell_type": "code",
   "execution_count": 242,
   "metadata": {
    "collapsed": false
   },
   "outputs": [],
   "source": [
    "#correction of Due date (-)\n",
    "df['Due date (-)'] = df['Due date (-)'].astype('datetime64[ns]')\n",
    "df['Due date (-)'][df['Due date (-)'] == '1816-03-29 05:56:08.066277376' ] = 0\n",
    "df['test'] = np.where(df['Due date (-)'] == '1970-01-01', 0, 1)\n",
    "\n",
    "# correction of Title transfer date (-)\n",
    "df['Title transfer date (-)'] = df['Title transfer date (-)'].astype(object).where(df['Title transfer date (-)'].notnull(), 0)\n",
    "df['Title transfer date (-)'] = np.where(df['Title transfer date (-)'] == 0, pd.to_datetime('today') + np.timedelta64(30,'D') , df['Title transfer date (-)'])\n",
    "df['Title transfer date (-)'] = df['Title transfer date (-)'].astype('datetime64[ns]')\n",
    "\n",
    "#continuation of correction of Due date (-)\n",
    "df['Due date (-) corrected'] = np.where(df['test'] == 1, df['Due date (-)'], df['Due date (+)'] - df['Title transfer date (+)'] + df['Title transfer date (-)'])\n",
    "\n",
    "df['Due date (-)'] = df['Due date (-) corrected']\n",
    "\n",
    "# converting the type of Due date (-)\n",
    "df['Due date (-)'] = df['Due date (-)'].astype('datetime64[ns]')\n",
    "df['Due date (-)'] = df['Due date (-)'].dt.date\n",
    "\n",
    "df['Due date (+)'] = df['Due date (+)'].dt.date\n",
    "df['Title transfer date (-)'] = df['Title transfer date (-)'].dt.date\n",
    "df['Title transfer date (+)'] = df['Title transfer date (+)'].dt.date\n",
    "\n",
    "\n",
    "#filling NaN\n",
    "df['Incoterms 1 (-)'].fillna(df['Incoterms 1 (+)'], inplace=True)\n",
    "df['Incoterms 2 country (-)'].fillna(df['Incoterms 2 country (+).1'], inplace=True)\n",
    "df['Incoterms 2 country (-).1'].fillna(df['Incoterms 2 country (+)'], inplace=True)\n"
   ]
  },
  {
   "cell_type": "code",
   "execution_count": 243,
   "metadata": {
    "collapsed": false
   },
   "outputs": [],
   "source": [
    "# calculating the columns\n",
    "\n",
    "df['Consumption Date'] = df['Due date (+)']\n",
    "df['Consumption Type'] = 'Filled by Macros'\n",
    "df['Total WC Consumption period'] = df['Due date (-)'] - df['Due date (+)']\n",
    "df['TTD difference'] = df['Title transfer date (-)'] - df['Title transfer date (+)']\n",
    "df['Sale Payment Terms'] = df['Due date (-)'] - df['Title transfer date (-)']\n",
    "df['Buy Payment Terms'] = df['Due date (+)'] - df['Title transfer date (+)']\n",
    "df['PDD difference'] = df['Sale Payment Terms'] - df['Buy Payment Terms']\n",
    "df['Consumption reason'] = 'OTHER'\n",
    "df['WC Amount'] = df['WC consumption amount'] / 1000000\n",
    "df['Current amount in USD (+)'] = df['Quantity BBL (ratio) (+)'] * df['Current price, USD/BBL (+)']\n",
    "df['Current amount in USD (-)'] = df['Quantity BBL (ratio) (-)'] * df['Current price, USD/BBL (-)']\n",
    "\n",
    "df['Company Name'] = df['Line of Business'].str[:3]\n",
    "\n",
    "df['Portfolio name change'] = df['Company Name'] + ' ' + df['Portfolio name']\n",
    "df['Portfolio name'] = df['Portfolio name change']\n",
    "\n",
    "\n",
    "# converting columns to the right format\n",
    "#converting into days\n",
    "df['Total WC Consumption period'] = df['Total WC Consumption period'].dt.days\n",
    "df['TTD difference'] = df['TTD difference'].dt.days\n",
    "df['Sale Payment Terms'] = df['Sale Payment Terms'].dt.days\n",
    "df['Buy Payment Terms'] = df['Buy Payment Terms'].dt.days\n",
    "df['PDD difference'] = df['PDD difference'].dt.days\n",
    "\n",
    "#fixing the counterparty where Litasco appears\n",
    "df['Counterparty (+)'] = np.where(df['Counterparty (+)'] == 'LITASCO SA', df['Company Name'] + ' ' + df['Mirror portfolio name (+)'], \n",
    "                                  df['Counterparty (+)'])\n",
    "\n",
    "df['Counterparty (-)'].fillna('', inplace=True)\n",
    "df['Counterparty (-)'] = np.where(df['Counterparty (-)'] == 'LITASCO SA', df['Company Name'] + ' ' + df['Mirror portfolio name (-)'], \n",
    "                                  df['Counterparty (-)'])\n"
   ]
  },
  {
   "cell_type": "code",
   "execution_count": 244,
   "metadata": {
    "collapsed": false
   },
   "outputs": [],
   "source": [
    "# correcting the WC Amount\n",
    "df_strategy = pd.DataFrame()\n",
    "df_strategy = df[['Strategy', 'WC Amount','Strategy start date']].copy()\n",
    "\n",
    "\n",
    "#import the strategies\n",
    "df_strategy_exclude = pd.read_excel('Strategies.xlsx')\n",
    "\n",
    "#conditions and sum\n",
    "df_strategy = df_strategy.merge(df_strategy_exclude, on = 'Strategy', how = 'left')\n",
    "df_strategy['New'].fillna(0, inplace=True)\n",
    "\n",
    "df_strategy['S2'] = np.where(df_strategy['Strategy'] > 517000, 1,0)\n",
    "df_strategy['ssd'] = np.where(df_strategy['Strategy start date'] > '2015-12-01', 1,0)\n",
    "\n",
    "df_strategy['sum_s'] = df_strategy['New'] + df_strategy['ssd'] + df_strategy['S2']\n",
    "\n",
    "df_strategy['WC Amount corrected'] = np.where(df_strategy['sum_s'] > 0,df_strategy['WC Amount'], 0)\n",
    "\n",
    "# replacing WC amount\n",
    "df['WC Amount'] = df_strategy['WC Amount corrected']\n"
   ]
  },
  {
   "cell_type": "code",
   "execution_count": 245,
   "metadata": {
    "collapsed": true
   },
   "outputs": [],
   "source": [
    "def f(row):\n",
    "    if (row['Total WC Consumption period'] >= row['TTD difference'] and row['Total WC Consumption period'] > 0 and row['TTD difference'] > 0) \\\n",
    "    or (row['Total WC Consumption period'] <= row['TTD difference'] and row['Total WC Consumption period'] < 0 and row['TTD difference'] < 0):\n",
    "        return row['TTD difference']\n",
    "    elif (row['Total WC Consumption period'] > 0 and row['TTD difference'] > 0) \\\n",
    "    or (row['Total WC Consumption period'] < 0 and row['TTD difference'] < 0):\n",
    "        return row['Total WC Consumption period']\n",
    "    else:\n",
    "        return 0"
   ]
  },
  {
   "cell_type": "code",
   "execution_count": 246,
   "metadata": {
    "collapsed": true
   },
   "outputs": [],
   "source": [
    "df['TTD influence on WC consumption'] = df.apply(f, axis=1)\n",
    "df['PDD influence on WC consumption'] = df['Total WC Consumption period'] - df['TTD influence on WC consumption']\n"
   ]
  },
  {
   "cell_type": "code",
   "execution_count": 247,
   "metadata": {
    "collapsed": true
   },
   "outputs": [],
   "source": [
    "# rearrange columns\n",
    "cols = df.columns.tolist()"
   ]
  },
  {
   "cell_type": "code",
   "execution_count": 248,
   "metadata": {
    "collapsed": true
   },
   "outputs": [],
   "source": [
    "cols = ['Consumption Date',\n",
    "       'Consumption Type',\n",
    "       'Total WC Consumption period',\n",
    "        'TTD influence on WC consumption',\n",
    "        'PDD influence on WC consumption',\n",
    "        'TTD difference',\n",
    "        'PDD difference',\n",
    "        'Sale Payment Terms',\n",
    "        'Buy Payment Terms',\n",
    "        'Consumption reason',\n",
    "        'WC Amount',\n",
    "        'Buy/Sell (-)',\n",
    "        'Buy/Sell (+)',\n",
    "        'Due date (-)',\n",
    "        'Due date (+)',\n",
    "        'Title transfer date (-)',\n",
    "        'Title transfer date (+)',\n",
    "        'Strategy',\n",
    "        'Strategy name',\n",
    "        'Company Name',\n",
    "        'Global Book name',\n",
    "        'Line of Business',\n",
    "        'Book Name',\n",
    "        'Portfolio name',\n",
    "        'Quantity',\n",
    "        'Current amount in USD (+)',\n",
    "        'Quantity BBL (ratio) (+)',\n",
    "        'Current price, USD/BBL (+)',\n",
    "        'Counterparty (+)',\n",
    "        'Title transfer (+)',\n",
    "        'Incoterms 1 (+)',\n",
    "        'Incoterms 2 country (+)',\n",
    "        'Incoterms 2 country (+).1',\n",
    "        'Object type (+)',\n",
    "        'Delivery ID (+)',\n",
    "        'Internal type (+)',\n",
    "        'Mirror Delivery ID (+)',\n",
    "        'Current amount in USD (-)',\n",
    "        'Quantity BBL (ratio) (-)',\n",
    "        'Current price, USD/BBL (-)',\n",
    "        'Counterparty (-)',\n",
    "        'Title transfer (-)',\n",
    "        'Incoterms 1 (-)',\n",
    "        'Incoterms 2 country (-)',\n",
    "        'Incoterms 2 country (-).1',\n",
    "        'Object type (-)',\n",
    "        'Delivery ID (-)',\n",
    "        'Internal type (-)',\n",
    "        'Mirror Delivery ID (-)',\n",
    "        'Strategy start date',\n",
    "        'Strategy end date',\n",
    "        'Voyage ID (+)',\n",
    "        'Transport name (+)',\n",
    "        'Grade (+)',\n",
    "        'Voyage ID (-)',\n",
    "        'Transport name (-)',\n",
    "        'Grade (-)']"
   ]
  },
  {
   "cell_type": "markdown",
   "metadata": {},
   "source": [
    "## Next steps:\n",
    "1. remove rows for which we have zeros in WC Amount\n",
    "2. remove rows for which we have time < - 365 and > 365"
   ]
  },
  {
   "cell_type": "markdown",
   "metadata": {},
   "source": [
    "## Exporting the file"
   ]
  },
  {
   "cell_type": "code",
   "execution_count": 249,
   "metadata": {
    "collapsed": true
   },
   "outputs": [],
   "source": [
    "# export\n",
    "\n",
    "df_export = df[cols]\n",
    "\n",
    "# export to excel\n",
    "writer = pd.ExcelWriter('output.xlsx')\n",
    "df_export.to_excel(writer,'Sheet1')\n",
    "writer.save()"
   ]
  },
  {
   "cell_type": "code",
   "execution_count": 250,
   "metadata": {
    "collapsed": true
   },
   "outputs": [],
   "source": [
    "# ****************** columns to correct***************************\n",
    "# counterparty (+), some differences in method. not sure if it adds value changing...\n",
    "# counterparty (-), some differences in method. not sure if it adds value changing...\n"
   ]
  },
  {
   "cell_type": "markdown",
   "metadata": {},
   "source": [
    "## Next steps:\n",
    "1. remove rows for which we have zeros in WC Amount\n",
    "2. remove rows for which we have time < - 365 and > 365\n",
    "3. create Stock in Transit (new df)\n",
    "4. create Payment Terms (new df)\n",
    "5. aggregate Stock in Transit and Payment Terms (new df)\n",
    "6. actuals\n",
    "7. others\n",
    "8. adjustments"
   ]
  },
  {
   "cell_type": "code",
   "execution_count": null,
   "metadata": {
    "collapsed": true
   },
   "outputs": [],
   "source": []
  }
 ],
 "metadata": {
  "kernelspec": {
   "display_name": "Python 2",
   "language": "python",
   "name": "python2"
  },
  "language_info": {
   "codemirror_mode": {
    "name": "ipython",
    "version": 2
   },
   "file_extension": ".py",
   "mimetype": "text/x-python",
   "name": "python",
   "nbconvert_exporter": "python",
   "pygments_lexer": "ipython2",
   "version": "2.7.11"
  }
 },
 "nbformat": 4,
 "nbformat_minor": 0
}
