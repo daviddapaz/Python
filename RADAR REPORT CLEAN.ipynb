{
 "cells": [
  {
   "cell_type": "code",
   "execution_count": 2,
   "metadata": {
    "collapsed": true
   },
   "outputs": [],
   "source": [
    "import numpy as np\n",
    "import pandas as pd"
   ]
  },
  {
   "cell_type": "code",
   "execution_count": 3,
   "metadata": {
    "collapsed": false
   },
   "outputs": [],
   "source": [
    "df = pd.read_excel('0FLATANALYTICALexport.XLSX')"
   ]
  },
  {
   "cell_type": "code",
   "execution_count": 4,
   "metadata": {
    "collapsed": false
   },
   "outputs": [
    {
     "name": "stderr",
     "output_type": "stream",
     "text": [
      "C:\\Anaconda2\\lib\\site-packages\\ipykernel\\__main__.py:3: SettingWithCopyWarning: \n",
      "A value is trying to be set on a copy of a slice from a DataFrame\n",
      "\n",
      "See the caveats in the documentation: http://pandas.pydata.org/pandas-docs/stable/indexing.html#indexing-view-versus-copy\n",
      "  app.launch_new_instance()\n"
     ]
    }
   ],
   "source": [
    "#correction of Due date (-)\n",
    "df['Due date (-)'] = df['Due date (-)'].astype('datetime64[ns]')\n",
    "df['Due date (-)'][df['Due date (-)'] == '1816-03-29 05:56:08.066277376' ] = 0\n",
    "df['test'] = np.where(df['Due date (-)'] == '1970-01-01', 0, 1)\n",
    "\n",
    "# correction of Title transfer date (-)\n",
    "df['Title transfer date (-)'] = df['Title transfer date (-)'].astype(object).where(df['Title transfer date (-)'].notnull(), 0)\n",
    "df['Title transfer date (-)'] = np.where(df['Title transfer date (-)'] == 0, pd.to_datetime('today') + np.timedelta64(30,'D') , df['Title transfer date (-)'])\n",
    "df['Title transfer date (-)'] = df['Title transfer date (-)'].astype('datetime64[ns]')\n",
    "\n",
    "#continuation of correction of Due date (-)\n",
    "df['Due date (-) corrected'] = np.where(df['test'] == 1, df['Due date (-)'], df['Due date (+)'] - df['Title transfer date (+)'] + df['Title transfer date (-)'])\n",
    "\n",
    "df['Due date (-)'] = df['Due date (-) corrected']\n",
    "\n",
    "# converting the type of Due date (-)\n",
    "df['Due date (-)'] = df['Due date (-)'].astype('datetime64[ns]')\n",
    "df['Due date (-)'] = df['Due date (-)'].dt.date\n",
    "\n",
    "df['Due date (+)'] = df['Due date (+)'].dt.date\n",
    "df['Title transfer date (-)'] = df['Title transfer date (-)'].dt.date\n",
    "df['Title transfer date (+)'] = df['Title transfer date (+)'].dt.date"
   ]
  },
  {
   "cell_type": "code",
   "execution_count": 5,
   "metadata": {
    "collapsed": true
   },
   "outputs": [],
   "source": [
    "# calculating the columns\n",
    "\n",
    "df['Consumption Date'] = df['Due date (+)']\n",
    "df['Consumption Type'] = 'Filled by Macros'\n",
    "df['Total WC Consumption period'] = df['Due date (-)'] - df['Due date (+)']\n",
    "#df['TTD influence on WC consumption'] = ''\n",
    "#df['PDD influence on WC consumption'] = ''\n",
    "df['TTD difference'] = df['Title transfer date (-)'] - df['Title transfer date (+)']\n",
    "df['Sale Payment Terms'] = df['Due date (-)'] - df['Title transfer date (-)']\n",
    "df['Buy Payment Terms'] = df['Due date (+)'] - df['Title transfer date (+)']\n",
    "df['PDD difference'] = df['Sale Payment Terms'] - df['Buy Payment Terms']\n",
    "df['Consumption reason'] = 'OTHER'\n",
    "df['WC Amount'] = df['WC consumption amount'] / 1000000\n",
    "df['Current price, USD/BBL (-)'] = ''\n",
    "\n",
    "\n",
    "# converting columns to the right format\n",
    "#converting into days\n",
    "df['Total WC Consumption period'] = df['Total WC Consumption period'].dt.days\n",
    "df['TTD difference'] = df['TTD difference'].dt.days\n",
    "df['Sale Payment Terms'] = df['Sale Payment Terms'].dt.days\n",
    "df['Buy Payment Terms'] = df['Buy Payment Terms'].dt.days\n",
    "df['PDD difference'] = df['PDD difference'].dt.days\n"
   ]
  },
  {
   "cell_type": "code",
   "execution_count": 3,
   "metadata": {
    "collapsed": false
   },
   "outputs": [
    {
     "ename": "NameError",
     "evalue": "name 'df' is not defined",
     "output_type": "error",
     "traceback": [
      "\u001b[1;31m---------------------------------------------------------------------------\u001b[0m",
      "\u001b[1;31mNameError\u001b[0m                                 Traceback (most recent call last)",
      "\u001b[1;32m<ipython-input-3-a2248d42794b>\u001b[0m in \u001b[0;36m<module>\u001b[1;34m()\u001b[0m\n\u001b[0;32m      1\u001b[0m \u001b[1;31m# further columns formatting, arranging\u001b[0m\u001b[1;33m\u001b[0m\u001b[1;33m\u001b[0m\u001b[0m\n\u001b[1;32m----> 2\u001b[1;33m \u001b[0mdf\u001b[0m\u001b[1;33m[\u001b[0m\u001b[1;34m'Company Name'\u001b[0m\u001b[1;33m]\u001b[0m \u001b[1;33m=\u001b[0m \u001b[0mdf\u001b[0m\u001b[1;33m[\u001b[0m\u001b[1;34m'Line of Business'\u001b[0m\u001b[1;33m]\u001b[0m\u001b[1;33m.\u001b[0m\u001b[0mstr\u001b[0m\u001b[1;33m[\u001b[0m\u001b[1;33m:\u001b[0m\u001b[1;36m2\u001b[0m\u001b[1;33m]\u001b[0m\u001b[1;33m\u001b[0m\u001b[0m\n\u001b[0m\u001b[0;32m      3\u001b[0m \u001b[0mdf\u001b[0m\u001b[1;33m[\u001b[0m\u001b[1;34m'Company Name'\u001b[0m\u001b[1;33m]\u001b[0m\u001b[1;33m\u001b[0m\u001b[0m\n",
      "\u001b[1;31mNameError\u001b[0m: name 'df' is not defined"
     ]
    }
   ],
   "source": [
    "# further columns formatting, arranging\n",
    "df['Company Name'] = df['Line of Business'].str[:2]\n",
    "df['Company Name']"
   ]
  },
  {
   "cell_type": "code",
   "execution_count": 6,
   "metadata": {
    "collapsed": true
   },
   "outputs": [],
   "source": [
    "def f(row):\n",
    "    if (row['Total WC Consumption period'] >= row['TTD difference'] and row['Total WC Consumption period'] > 0 and row['TTD difference'] > 0) \\\n",
    "    or (row['Total WC Consumption period'] <= row['TTD difference'] and row['Total WC Consumption period'] < 0 and row['TTD difference'] < 0):\n",
    "        return row['TTD difference']\n",
    "    elif (row['Total WC Consumption period'] > 0 and row['TTD difference'] > 0) \\\n",
    "    or (row['Total WC Consumption period'] < 0 and row['TTD difference'] < 0):\n",
    "        return row['Total WC Consumption period']\n",
    "    else:\n",
    "        return 0"
   ]
  },
  {
   "cell_type": "code",
   "execution_count": 7,
   "metadata": {
    "collapsed": true
   },
   "outputs": [],
   "source": [
    "df['TTD influence on WC consumption'] = df.apply(f, axis=1)\n",
    "df['PDD influence on WC consumption'] = df['Total WC Consumption period'] - df['TTD influence on WC consumption']\n"
   ]
  },
  {
   "cell_type": "code",
   "execution_count": 8,
   "metadata": {
    "collapsed": true
   },
   "outputs": [],
   "source": [
    "# rearrange columns\n",
    "cols = df.columns.tolist()"
   ]
  },
  {
   "cell_type": "code",
   "execution_count": 9,
   "metadata": {
    "collapsed": true
   },
   "outputs": [],
   "source": [
    "cols = ['Consumption Date',\n",
    "       'Consumption Type',\n",
    "       'Total WC Consumption period',\n",
    "        'TTD influence on WC consumption',\n",
    "        'PDD influence on WC consumption',\n",
    "        'TTD difference',\n",
    "        'PDD difference',\n",
    "        'Sale Payment Terms',\n",
    "        'Buy Payment Terms',\n",
    "        'Consumption reason',\n",
    "        'WC Amount',\n",
    "        'Buy/Sell (-)',\n",
    "        'Buy/Sell (+)',\n",
    "        'Due date (-)',\n",
    "        'Due date (+)',\n",
    "        'Title transfer date (-)',\n",
    "        'Title transfer date (+)',\n",
    "        'Strategy',\n",
    "        'Strategy name',\n",
    "        'Company Name',\n",
    "        'Global Book name',\n",
    "        'Line of Business',\n",
    "        'Book Name',\n",
    "        'Portfolio name',\n",
    "        'Quantity',\n",
    "        'Current amount in USD (+)',\n",
    "        'Quantity BBL (ratio) (+)',\n",
    "        'Current price, USD/BBL (+)',\n",
    "        'Counterparty (+)',\n",
    "        'Title transfer (+)',\n",
    "        'Incoterms 1 (+)',\n",
    "        'Incoterms 2 country (+)',\n",
    "        'Incoterms 2 country (+).1',\n",
    "        'Object type (+)',\n",
    "        'Delivery ID (+)',\n",
    "        'Internal type (+)',\n",
    "        'Mirror Delivery ID (+)',\n",
    "        'Current amount in USD (-)',\n",
    "        'Quantity BBL (ratio) (-)',\n",
    "        'Current price, USD/BBL (-)',\n",
    "        'Counterparty (-)',\n",
    "        'Title transfer (-)',\n",
    "        'Incoterms 1 (-)',\n",
    "        'Incoterms 2 country (-)',\n",
    "        'Incoterms 2 country (-).1',\n",
    "        'Object type (-)',\n",
    "        'Delivery ID (-)',\n",
    "        'Internal type (-)',\n",
    "        'Mirror Delivery ID (-)',\n",
    "        'Strategy start date',\n",
    "        'Strategy end date',\n",
    "        'Voyage ID (+)',\n",
    "        'Transport name (+)',\n",
    "        'Grade (+)',\n",
    "        'Voyage ID (-)',\n",
    "        'Transport name (-)',\n",
    "        'Grade (-)']"
   ]
  },
  {
   "cell_type": "code",
   "execution_count": 11,
   "metadata": {
    "collapsed": true
   },
   "outputs": [],
   "source": [
    "# export\n",
    "\n",
    "df_export = df[cols]\n",
    "\n",
    "# export to excel\n",
    "writer = pd.ExcelWriter('output.xlsx')\n",
    "df_export.to_excel(writer,'Sheet1')\n",
    "writer.save()"
   ]
  },
  {
   "cell_type": "code",
   "execution_count": 2,
   "metadata": {
    "collapsed": true
   },
   "outputs": [],
   "source": [
    "# ****************** columns to correct***************************\n",
    "# WC Amount\n",
    "# Company Name (first three cars from Line of Business e.g: GVA)\n",
    "# Portfolio Name\n",
    "# Current Amount in USD (+)\n",
    "# counterparty (+)\n",
    "# Current amount in USD (-)\n",
    "# Current price, USD/BBL (-)\n",
    "# counterparty (-)\n",
    "# Incoterms 1 (-)\n",
    "# Inconterms 2 country (-)\n",
    "# Incoterms 2 country.1 (-)\n"
   ]
  },
  {
   "cell_type": "code",
   "execution_count": null,
   "metadata": {
    "collapsed": true
   },
   "outputs": [],
   "source": []
  }
 ],
 "metadata": {
  "kernelspec": {
   "display_name": "Python 2",
   "language": "python",
   "name": "python2"
  },
  "language_info": {
   "codemirror_mode": {
    "name": "ipython",
    "version": 2
   },
   "file_extension": ".py",
   "mimetype": "text/x-python",
   "name": "python",
   "nbconvert_exporter": "python",
   "pygments_lexer": "ipython2",
   "version": "2.7.11"
  }
 },
 "nbformat": 4,
 "nbformat_minor": 0
}
