{
 "cells": [
  {
   "cell_type": "markdown",
   "metadata": {
    "collapsed": true
   },
   "source": [
    "# Before running the program ensure that:\n",
    "#### 1. Download the latest Analytical Report\n",
    "#### 2. Update strategies from BEX\n",
    "#### 3. Adjust dates in Analytical Report\n",
    "#### 4. Download Actuals Report\n",
    "#### 5. Run Actuals for the desired book\n",
    "#### 6. Define RADAR REPORT (CRUDE, HEAVY, MD, LIGHT)\n",
    "#### 7. Define Dates\n",
    "#### 8. Define Export files"
   ]
  },
  {
   "cell_type": "markdown",
   "metadata": {},
   "source": [
    "# Define RADAR REPORT and DATES"
   ]
  },
  {
   "cell_type": "code",
   "execution_count": 2,
   "metadata": {
    "collapsed": true
   },
   "outputs": [],
   "source": [
    "import numpy as np\n",
    "import pandas as pd\n",
    "import datetime\n",
    "\n",
    "import warnings\n",
    "warnings.filterwarnings(\"ignore\")"
   ]
  },
  {
   "cell_type": "code",
   "execution_count": 3,
   "metadata": {
    "collapsed": false
   },
   "outputs": [
    {
     "data": {
      "text/plain": [
       "34"
      ]
     },
     "execution_count": 3,
     "metadata": {},
     "output_type": "execute_result"
    }
   ],
   "source": [
    "# defining Radar Report\n",
    "\n",
    "radar_report = 'CRUDE'\n",
    "\n",
    "\n",
    "# define radar date\n",
    "\n",
    "radar_date = '2017-10-27'\n",
    "end_date = '2017-11-30'\n",
    "add_days = pd.to_datetime(end_date) - pd.to_datetime(radar_date)\n",
    "#add_days = 59\n",
    "add_days = int(str(add_days)[:2])\n",
    "add_days"
   ]
  },
  {
   "cell_type": "markdown",
   "metadata": {},
   "source": [
    "# Import Python libraries and Analytical Report"
   ]
  },
  {
   "cell_type": "code",
   "execution_count": 4,
   "metadata": {
    "collapsed": false
   },
   "outputs": [],
   "source": [
    "df = pd.read_excel('0FLATANALYTICALexport.XLSX')\n",
    "\n",
    "# the Due date (+), TTD (-) and TTD (+) need to be datetime64\n",
    "#df.dtypes"
   ]
  },
  {
   "cell_type": "markdown",
   "metadata": {},
   "source": [
    "# Counterparties and dates"
   ]
  },
  {
   "cell_type": "code",
   "execution_count": 5,
   "metadata": {
    "collapsed": false
   },
   "outputs": [],
   "source": [
    "# correction of counterparty (+)\n",
    "df['Counterparty (+)'] = np.where((df['Mirror portfolio name (+)'].isnull() == True ),\n",
    "                                  df['Counterparty (+)'],\n",
    "                                  np.where(df['Mirror Line of Business (+)'] == df['Line of Business'],\n",
    "                                          df['Mirror Line of Business (+)'].str[:3] + ' ' + df['Mirror portfolio name (+)'],\n",
    "                                          df['Mirror Line of Business (+)'] + ' ' + df['Mirror portfolio name (+)']))"
   ]
  },
  {
   "cell_type": "code",
   "execution_count": 6,
   "metadata": {
    "collapsed": false
   },
   "outputs": [],
   "source": [
    "# correction of counterparty (-)\n",
    "df['Counterparty (-)'] = np.where((df['Mirror portfolio name (-)'].isnull() == True ),\n",
    "                                  df['Counterparty (-)'],\n",
    "                                 np.where(df['Mirror Line of Business (-)'] == df['Line of Business'],\n",
    "                                         df['Mirror Line of Business (-)'].str[:3] + ' '+ df['Mirror portfolio name (-)'],\n",
    "                                          df['Mirror Line of Business (-)'] + ' ' + df['Mirror portfolio name (-)']))"
   ]
  },
  {
   "cell_type": "code",
   "execution_count": 7,
   "metadata": {
    "collapsed": false
   },
   "outputs": [],
   "source": [
    "#correction of Due date (-)\n",
    "df['Due date (-)'] = df['Due date (-)'].astype('datetime64[ns]')\n",
    "df['Due date (-)'][df['Due date (-)'] == '1816-03-29 05:56:08.066277376' ] = 0\n",
    "df['test'] = np.where(df['Due date (-)'] == '1970-01-01', 0, 1)\n",
    "\n",
    "# correction of Title transfer date (-)\n",
    "df['Title transfer date (-)'] = df['Title transfer date (-)'].astype(object).where(df['Title transfer date (-)'].notnull(), 0)\n",
    "df['Title transfer date (-)'] = np.where(df['Title transfer date (-)'] == 0, pd.to_datetime('today') + np.timedelta64(30,'D') , df['Title transfer date (-)'])\n",
    "df['Title transfer date (-)'] = df['Title transfer date (-)'].astype('datetime64[ns]')\n",
    "\n",
    "#continuation of correction of Due date (-)\n",
    "df['Due date (-) corrected'] = np.where(df['test'] == 1, df['Due date (-)'], df['Due date (+)'] - df['Title transfer date (+)'] + df['Title transfer date (-)'])\n",
    "\n",
    "df['Due date (-)'] = df['Due date (-) corrected']\n",
    "\n",
    "# converting the type of Due date (-)\n",
    "df['Due date (-)'] = df['Due date (-)'].astype('datetime64[ns]')\n",
    "df['Due date (-)'] = df['Due date (-)'].dt.date\n",
    "\n",
    "df['Consumption Date'] = df['Due date (+)']\n",
    "df['Due date (+)'] = df['Due date (+)'].dt.date\n",
    "df['Title transfer date (-)'] = df['Title transfer date (-)'].dt.date\n",
    "df['Title transfer date (+)'] = df['Title transfer date (+)'].dt.date\n",
    "\n",
    "\n",
    "#filling NaN\n",
    "df['Incoterms 1 (-)'].fillna(df['Incoterms 1 (+)'], inplace=True)\n",
    "df['Incoterms 2 country (-)'].fillna(df['Incoterms 2 country (+).1'], inplace=True)\n",
    "df['Incoterms 2 country (-).1'].fillna(df['Incoterms 2 country (+)'], inplace=True)\n"
   ]
  },
  {
   "cell_type": "markdown",
   "metadata": {},
   "source": [
    "# Days operations"
   ]
  },
  {
   "cell_type": "code",
   "execution_count": 8,
   "metadata": {
    "collapsed": false
   },
   "outputs": [],
   "source": [
    "# calculating the columns\n",
    "\n",
    "df['Consumption Type'] = 'Filled by Macros'\n",
    "df['Total WC Consumption period'] = df['Due date (-)'] - df['Due date (+)']\n",
    "df['TTD difference'] = df['Title transfer date (-)'] - df['Title transfer date (+)']\n",
    "df['Sale Payment Terms'] = df['Due date (-)'] - df['Title transfer date (-)']\n",
    "df['Buy Payment Terms'] = df['Due date (+)'] - df['Title transfer date (+)']\n",
    "df['PDD difference'] = df['Sale Payment Terms'] - df['Buy Payment Terms']\n",
    "df['Consumption reason'] = 'OTHER'\n",
    "df['WC Amount'] = df['WC consumption amount'] / 1000000\n",
    "df['Current amount in USD (+)'] = df['Quantity BBL (ratio) (+)'] * df['Current price, USD/BBL (+)']\n",
    "df['Current amount in USD (-)'] = df['Quantity BBL (ratio) (-)'] * df['Current price, USD/BBL (-)']\n",
    "\n",
    "# company name\n",
    "df['Company Name'] = df['Line of Business'].str[:3]\n",
    "\n",
    "# portfolio name\n",
    "df['Portfolio name change'] = df['Company Name'] + ' ' + df['Portfolio name']\n",
    "df['Portfolio name'] = df['Portfolio name change']\n",
    "\n",
    "\n",
    "# converting columns to the right format\n",
    "#converting into days\n",
    "df['Total WC Consumption period'] = df['Total WC Consumption period'].dt.days\n",
    "df['TTD difference'] = df['TTD difference'].dt.days\n",
    "df['Sale Payment Terms'] = df['Sale Payment Terms'].dt.days\n",
    "df['Buy Payment Terms'] = df['Buy Payment Terms'].dt.days\n",
    "df['PDD difference'] = df['PDD difference'].dt.days"
   ]
  },
  {
   "cell_type": "markdown",
   "metadata": {},
   "source": [
    "# WC Amount"
   ]
  },
  {
   "cell_type": "code",
   "execution_count": 9,
   "metadata": {
    "collapsed": true
   },
   "outputs": [],
   "source": [
    "# correcting the WC Amount\n",
    "df_strategy = pd.DataFrame()\n",
    "df_strategy = df[['Strategy', 'WC Amount','Strategy start date']].copy()\n",
    "\n",
    "#import the strategies\n",
    "df_strategy_exclude = pd.read_excel('Strategies.xlsx')\n",
    "\n",
    "#conditions and sum\n",
    "df_strategy = df_strategy.merge(df_strategy_exclude, on = 'Strategy', how = 'left')\n",
    "df_strategy['New'].fillna(0, inplace=True)\n",
    "df_strategy['S2'] = np.where(df_strategy['Strategy'] > 517000, 1,0)\n",
    "df_strategy['ssd'] = np.where(df_strategy['Strategy start date'] > '2015-12-01', 1,0)\n",
    "df_strategy['sum_s'] = df_strategy['New'] + df_strategy['ssd'] + df_strategy['S2']\n",
    "df_strategy['WC Amount corrected'] = np.where(df_strategy['sum_s'] > 0,df_strategy['WC Amount'], 0)\n",
    "\n",
    "# replacing WC amount\n",
    "df['WC Amount'] = df_strategy['WC Amount corrected']\n",
    "\n",
    "# rounding WC amount and filter\n",
    "df['WC Amount'] = df['WC Amount'].round(4)\n",
    "df = df[(df['WC Amount'] <= -0.50) | (df['WC Amount'] >= 0.50) ]\n",
    "\n",
    "# reset index\n",
    "df = df.reset_index(drop=True)"
   ]
  },
  {
   "cell_type": "markdown",
   "metadata": {},
   "source": [
    "# WC Days: Total, TTD and PDD"
   ]
  },
  {
   "cell_type": "code",
   "execution_count": 10,
   "metadata": {
    "collapsed": false
   },
   "outputs": [],
   "source": [
    "def f(row):\n",
    "    if (row['Total WC Consumption period'] >= row['TTD difference'] and row['Total WC Consumption period'] > 0 and row['TTD difference'] > 0) \\\n",
    "    or (row['Total WC Consumption period'] <= row['TTD difference'] and row['Total WC Consumption period'] < 0 and row['TTD difference'] < 0):\n",
    "        return row['TTD difference']\n",
    "    elif (row['Total WC Consumption period'] > 0 and row['TTD difference'] > 0) \\\n",
    "    or (row['Total WC Consumption period'] < 0 and row['TTD difference'] < 0):\n",
    "        return row['Total WC Consumption period']\n",
    "    else:\n",
    "        return 0"
   ]
  },
  {
   "cell_type": "code",
   "execution_count": 11,
   "metadata": {
    "collapsed": false
   },
   "outputs": [],
   "source": [
    "df['TTD influence on WC consumption'] = df.apply(f, axis=1)\n",
    "df['PDD influence on WC consumption'] = df['Total WC Consumption period'] - df['TTD influence on WC consumption']"
   ]
  },
  {
   "cell_type": "markdown",
   "metadata": {},
   "source": [
    "# Select columns"
   ]
  },
  {
   "cell_type": "code",
   "execution_count": 12,
   "metadata": {
    "collapsed": false
   },
   "outputs": [],
   "source": [
    "# rearrange columns\n",
    "cols = df.columns.tolist()"
   ]
  },
  {
   "cell_type": "code",
   "execution_count": 13,
   "metadata": {
    "collapsed": false
   },
   "outputs": [],
   "source": [
    "cols = ['Consumption Date',\n",
    "       'Consumption Type',\n",
    "       'Total WC Consumption period',\n",
    "        'TTD influence on WC consumption',\n",
    "        'PDD influence on WC consumption',\n",
    "        'TTD difference',\n",
    "        'PDD difference',\n",
    "        'Sale Payment Terms',\n",
    "        'Buy Payment Terms',\n",
    "        'Consumption reason',\n",
    "        'WC Amount',\n",
    "        'Buy/Sell (-)',\n",
    "        'Buy/Sell (+)',\n",
    "        'Due date (-)',\n",
    "        'Due date (+)',\n",
    "        'Title transfer date (-)',\n",
    "        'Title transfer date (+)',\n",
    "        'Strategy',\n",
    "        'Strategy name',\n",
    "        'Company Name',\n",
    "        'Global Book name',\n",
    "        'Line of Business',\n",
    "        'Book Name',\n",
    "        'Portfolio name',\n",
    "        'Quantity',\n",
    "        'Current amount in USD (+)',\n",
    "        'Quantity BBL (ratio) (+)',\n",
    "        'Current price, USD/BBL (+)',\n",
    "        'Counterparty (+)',\n",
    "        'Title transfer (+)',\n",
    "        'Incoterms 1 (+)',\n",
    "        'Incoterms 2 country (+)',\n",
    "        'Incoterms 2 country (+).1',\n",
    "        'Object type (+)',\n",
    "        'Delivery ID (+)',\n",
    "        'Internal type (+)',\n",
    "        'Mirror Delivery ID (+)',\n",
    "        'Current amount in USD (-)',\n",
    "        'Quantity BBL (ratio) (-)',\n",
    "        'Current price, USD/BBL (-)',\n",
    "        'Counterparty (-)',\n",
    "        'Title transfer (-)',\n",
    "        'Incoterms 1 (-)',\n",
    "        'Incoterms 2 country (-)',\n",
    "        'Incoterms 2 country (-).1',\n",
    "        'Object type (-)',\n",
    "        'Delivery ID (-)',\n",
    "        'Internal type (-)',\n",
    "        'Mirror Delivery ID (-)',\n",
    "        'Strategy start date',\n",
    "        'Strategy end date',\n",
    "        'Voyage ID (+)',\n",
    "        'Transport name (+)',\n",
    "        'Grade (+)',\n",
    "        'Voyage ID (-)',\n",
    "        'Transport name (-)',\n",
    "        'Grade (-)']"
   ]
  },
  {
   "cell_type": "code",
   "execution_count": 14,
   "metadata": {
    "collapsed": false
   },
   "outputs": [
    {
     "data": {
      "text/plain": [
       "(6918, 57)"
      ]
     },
     "execution_count": 14,
     "metadata": {},
     "output_type": "execute_result"
    }
   ],
   "source": [
    "# ordering the columns\n",
    "df = df[cols]\n",
    "df.shape"
   ]
  },
  {
   "cell_type": "markdown",
   "metadata": {},
   "source": [
    "# Filter data"
   ]
  },
  {
   "cell_type": "code",
   "execution_count": 15,
   "metadata": {
    "collapsed": false
   },
   "outputs": [
    {
     "data": {
      "text/plain": [
       "(6909, 57)"
      ]
     },
     "execution_count": 15,
     "metadata": {},
     "output_type": "execute_result"
    }
   ],
   "source": [
    "# selecting rows for which dates are above -365 or below 365\n",
    "df = df[(df['Total WC Consumption period'] > -365) & (df['Total WC Consumption period'] < 365) ]\n",
    "\n",
    "# reset index\n",
    "df = df.reset_index(drop=True)\n",
    "df.shape"
   ]
  },
  {
   "cell_type": "markdown",
   "metadata": {},
   "source": [
    "# Stock in Transit and Payment Terms"
   ]
  },
  {
   "cell_type": "code",
   "execution_count": 16,
   "metadata": {
    "collapsed": false
   },
   "outputs": [
    {
     "data": {
      "text/plain": [
       "(33203, 57)"
      ]
     },
     "execution_count": 16,
     "metadata": {},
     "output_type": "execute_result"
    }
   ],
   "source": [
    "# stock in transit\n",
    "stock_in_transit = df.loc[df.index.repeat(abs(df['TTD influence on WC consumption']))]\n",
    "stock_in_transit['Consumption Date'] = stock_in_transit['Consumption Date'] + pd.to_timedelta(abs(stock_in_transit['TTD influence on WC consumption'])-1, 'D')\n",
    "\n",
    "stock_in_transit.loc[:,'Consumption Date'] -= pd.to_timedelta(stock_in_transit.groupby(level=0).cumcount(),'D')\n",
    "stock_in_transit = stock_in_transit.reset_index(drop=True)\n",
    "stock_in_transit['Consumption Type'] = 'Stock in Transit'\n",
    "stock_in_transit = stock_in_transit[(stock_in_transit['Consumption Date'] > '2016-12-31')]\n",
    "\n",
    "# correct the negatives\n",
    "stock_in_transit['Consumption Date'] = np.where(stock_in_transit['TTD influence on WC consumption'] < 0,\n",
    "                                                stock_in_transit['Consumption Date'] +\n",
    "                                                pd.to_timedelta(stock_in_transit['TTD influence on WC consumption'], 'D'),\n",
    "                                                stock_in_transit['Consumption Date'])\n",
    "\n",
    "#filter date\n",
    "stock_in_transit = stock_in_transit[(stock_in_transit['Consumption Date'] > '2016-12-31')]\n",
    "stock_in_transit = stock_in_transit.reset_index(drop=True)\n",
    "\n",
    "stock_in_transit.shape"
   ]
  },
  {
   "cell_type": "code",
   "execution_count": 17,
   "metadata": {
    "collapsed": false
   },
   "outputs": [
    {
     "data": {
      "text/plain": [
       "(24191, 57)"
      ]
     },
     "execution_count": 17,
     "metadata": {},
     "output_type": "execute_result"
    }
   ],
   "source": [
    "# payment terms\n",
    "payment_terms = df.loc[df.index.repeat(abs(df['PDD influence on WC consumption']))]\n",
    "payment_terms['Consumption Date'] = np.where(payment_terms['PDD influence on WC consumption'] >= 0,\n",
    "                                                payment_terms['Consumption Date'] +\n",
    "                                                pd.to_timedelta(abs(payment_terms['Total WC Consumption period']) -1, 'D'),\n",
    "                                                payment_terms['Consumption Date'] - pd.to_timedelta(1, 'D') +\n",
    "                                            pd.to_timedelta(payment_terms['TTD influence on WC consumption'], 'D'))\n",
    "\n",
    "payment_terms.loc[:,'Consumption Date'] -= pd.to_timedelta(payment_terms.groupby(level=0).cumcount(),'D')\n",
    "payment_terms = payment_terms.reset_index(drop=True)\n",
    "payment_terms['Consumption Type'] = 'Payment Terms'\n",
    "\n",
    "# filter date\n",
    "payment_terms = payment_terms[(payment_terms['Consumption Date'] > '2016-12-31')]\n",
    "payment_terms = payment_terms.reset_index(drop=True)\n",
    "\n",
    "payment_terms.shape"
   ]
  },
  {
   "cell_type": "markdown",
   "metadata": {},
   "source": [
    "# Tableau data"
   ]
  },
  {
   "cell_type": "code",
   "execution_count": 18,
   "metadata": {
    "collapsed": false
   },
   "outputs": [
    {
     "data": {
      "text/plain": [
       "(57394, 57)"
      ]
     },
     "execution_count": 18,
     "metadata": {},
     "output_type": "execute_result"
    }
   ],
   "source": [
    "df_output = pd.concat([stock_in_transit, payment_terms])\n",
    "df_output = df_output.reset_index(drop=True)\n",
    "df_output.shape"
   ]
  },
  {
   "cell_type": "markdown",
   "metadata": {},
   "source": [
    "# Selection for others"
   ]
  },
  {
   "cell_type": "code",
   "execution_count": 19,
   "metadata": {
    "collapsed": true
   },
   "outputs": [],
   "source": [
    "df_agg = df_output.groupby(['Consumption Date', 'Strategy']).sum().reset_index()\n",
    "df_agg = df_agg[['Consumption Date', 'Strategy', 'WC Amount']]\n",
    "df_agg['WC Amount'] = df_agg['WC Amount']*-1\n",
    "\n",
    "#filter the date\n",
    "df_agg = df_agg[(df_agg['Consumption Date'] <= radar_date)]\n"
   ]
  },
  {
   "cell_type": "markdown",
   "metadata": {},
   "source": [
    "# Import Actuals"
   ]
  },
  {
   "cell_type": "code",
   "execution_count": 20,
   "metadata": {
    "collapsed": true
   },
   "outputs": [],
   "source": [
    "act = pd.read_excel('1ALLBOOKWCActuals - ETRM.xlsm', sheetname= radar_report, header=None,\n",
    "                          names = [\"Company Code\", \"Consumption Date\", \"Strategy\", \"WC Amount\"])\n",
    "\n",
    "#selecting cols\n",
    "act = act[['Consumption Date', 'Strategy', 'WC Amount']]\n",
    "act['WC Amount'] = act['WC Amount']/1000000"
   ]
  },
  {
   "cell_type": "markdown",
   "metadata": {},
   "source": [
    "# Joining Analytical and Actuals --> Other"
   ]
  },
  {
   "cell_type": "code",
   "execution_count": 21,
   "metadata": {
    "collapsed": false
   },
   "outputs": [
    {
     "data": {
      "text/plain": [
       "(537125, 3)"
      ]
     },
     "execution_count": 21,
     "metadata": {},
     "output_type": "execute_result"
    }
   ],
   "source": [
    "# joining the two dataframes\n",
    "\n",
    "df_others = pd.concat([df_agg, act])\n",
    "df_others.shape"
   ]
  },
  {
   "cell_type": "code",
   "execution_count": 22,
   "metadata": {
    "collapsed": false
   },
   "outputs": [
    {
     "data": {
      "text/plain": [
       "(75910, 3)"
      ]
     },
     "execution_count": 22,
     "metadata": {},
     "output_type": "execute_result"
    }
   ],
   "source": [
    "# groupby and exclude the small amounts\n",
    "\n",
    "df_others = df_others.groupby(['Consumption Date', 'Strategy']).sum().reset_index()\n",
    "df_others = df_others[(df_others['WC Amount'] > 0.1) | (df_others['WC Amount'] < -0.1) ]\n",
    "df_others = df_others.reset_index(drop=True)\n",
    "df_others.shape"
   ]
  },
  {
   "cell_type": "code",
   "execution_count": 23,
   "metadata": {
    "collapsed": true
   },
   "outputs": [],
   "source": [
    "# only the radar date and defining days_count\n",
    "\n",
    "df_others_radar_date = df_others[(df_others['Consumption Date'] == radar_date)]\n",
    "df_others_radar_date = df_others_radar_date.reset_index(drop=True)\n",
    "days_count = df_others_radar_date.shape[0]"
   ]
  },
  {
   "cell_type": "code",
   "execution_count": 24,
   "metadata": {
    "collapsed": false
   },
   "outputs": [
    {
     "name": "stdout",
     "output_type": "stream",
     "text": [
      "253\n",
      "2017-10-27\n",
      "34\n",
      "2017-11-30\n"
     ]
    }
   ],
   "source": [
    "print(days_count)\n",
    "print(radar_date)\n",
    "print(add_days)\n",
    "print(end_date)"
   ]
  },
  {
   "cell_type": "code",
   "execution_count": 25,
   "metadata": {
    "collapsed": false
   },
   "outputs": [
    {
     "data": {
      "text/plain": [
       "(8602, 3)"
      ]
     },
     "execution_count": 25,
     "metadata": {},
     "output_type": "execute_result"
    }
   ],
   "source": [
    "# replicating the data until the last day of radar report\n",
    "\n",
    "df_others_replication = pd.concat([df_others_radar_date]*add_days)\n",
    "df_others_replication = df_others_replication.reset_index(drop=True)\n",
    "df_others_replication.shape"
   ]
  },
  {
   "cell_type": "code",
   "execution_count": 26,
   "metadata": {
    "collapsed": true
   },
   "outputs": [],
   "source": [
    "# changing the dates: from radar date + 1 day until last day of next month\n",
    "\n",
    "for x in xrange(0,add_days):\n",
    "    df_others_replication.iloc[x*days_count:days_count*(x+1)]['Consumption Date'] = df_others_replication.iloc[x*days_count:days_count*(x+1)]['Consumption Date'] + pd.to_timedelta(x+1,'D')"
   ]
  },
  {
   "cell_type": "code",
   "execution_count": 27,
   "metadata": {
    "collapsed": true
   },
   "outputs": [],
   "source": [
    "df_others = pd.concat([df_others, df_others_replication])"
   ]
  },
  {
   "cell_type": "markdown",
   "metadata": {},
   "source": [
    "# Joining Others to Tableau data"
   ]
  },
  {
   "cell_type": "code",
   "execution_count": 28,
   "metadata": {
    "collapsed": true
   },
   "outputs": [],
   "source": [
    "df_others['Consumption Type'] = np.where (df_others['Strategy'].str.contains('MARGIN') == True, 'Margin Call',\n",
    "                                          np.where(df_others['Strategy'].str.contains('UNASSIGNED') == True, 'Other Unassigned',\n",
    "                                                   'Other'))\n",
    "df_others = df_others.reset_index(drop=True)"
   ]
  },
  {
   "cell_type": "code",
   "execution_count": 29,
   "metadata": {
    "collapsed": false
   },
   "outputs": [],
   "source": [
    "# this gives all strategies available in the analytical report\n",
    "output_strategy = df_output[['Strategy', 'Strategy name', 'Global Book name', 'Line of Business','Book Name', 'Portfolio name' ]]\n",
    "output_strategy = output_strategy.drop_duplicates()\n",
    "output_strategy = output_strategy.reset_index(drop=True)"
   ]
  },
  {
   "cell_type": "code",
   "execution_count": 30,
   "metadata": {
    "collapsed": false
   },
   "outputs": [],
   "source": [
    "# this gives all strategies from ETRM (file needs to be updated before running the script)\n",
    "all_strategies = pd.read_excel('all_strategy.xlsx')\n",
    "all_strategies = all_strategies[['Strategy', 'Strategy name','Global Book name', 'Line of Business','Book Name', 'Portfolio name' ]]\n",
    "all_strategies['Portfolio name update'] = all_strategies['Line of Business'].str[:3] + ' ' + all_strategies['Portfolio name']\n",
    "all_strategies['Portfolio name'] = all_strategies['Portfolio name update']\n",
    "all_strategies = all_strategies[['Strategy', 'Strategy name','Global Book name', 'Line of Business','Book Name', 'Portfolio name' ]]"
   ]
  },
  {
   "cell_type": "code",
   "execution_count": 31,
   "metadata": {
    "collapsed": false
   },
   "outputs": [],
   "source": [
    "df_others = df_others.merge(output_strategy, on='Strategy', how='left')"
   ]
  },
  {
   "cell_type": "code",
   "execution_count": 32,
   "metadata": {
    "collapsed": false
   },
   "outputs": [],
   "source": [
    "df_others2 = all_strategies[['Strategy', 'Strategy name']]"
   ]
  },
  {
   "cell_type": "code",
   "execution_count": 33,
   "metadata": {
    "collapsed": false
   },
   "outputs": [],
   "source": [
    "df_others3 = df_others.merge(all_strategies, on='Strategy',how='left')"
   ]
  },
  {
   "cell_type": "code",
   "execution_count": 34,
   "metadata": {
    "collapsed": false
   },
   "outputs": [],
   "source": [
    "df_others3['Strategy name'] = np.where(df_others3['Strategy name_x'].isnull() == True,\n",
    "                                          df_others3['Strategy name_y'], df_others3['Strategy name_x'])\n",
    "\n",
    "df_others3['Global Book name'] = np.where(df_others3['Global Book name_x'].isnull() == True,\n",
    "                                          df_others3['Global Book name_y'], df_others3['Global Book name_x'])\n",
    "\n",
    "df_others3['Line of Business'] = np.where(df_others3['Line of Business_x'].isnull() == True,\n",
    "                                          df_others3['Line of Business_y'], df_others3['Line of Business_x'])\n",
    "\n",
    "df_others3['Book Name'] = np.where(df_others3['Book Name_x'].isnull() == True,\n",
    "                                          df_others3['Book Name_y'], df_others3['Book Name_x'])\n",
    "\n",
    "df_others3['Portfolio name'] = np.where(df_others3['Portfolio name_x'].isnull() == True,\n",
    "                                          df_others3['Portfolio name_y'], df_others3['Portfolio name_x'])"
   ]
  },
  {
   "cell_type": "code",
   "execution_count": 35,
   "metadata": {
    "collapsed": false
   },
   "outputs": [],
   "source": [
    "# adding company name and updating portfolio name\n",
    "df_others3 = df_others3.fillna('Unknown')\n",
    "df_others3['Company Name'] = np.where(df_others3['Line of Business'] == 'Unknown', df_others3['Strategy'].str[:3], \n",
    "                                    df_others3['Line of Business'].str[:3])\n",
    "df_others3['Portfolio name'] = np.where(df_others3['Portfolio name'] == 'Unknown', df_others3['Strategy'], df_others3['Portfolio name'])"
   ]
  },
  {
   "cell_type": "code",
   "execution_count": 36,
   "metadata": {
    "collapsed": false
   },
   "outputs": [],
   "source": [
    "#selecting the cols\n",
    "\n",
    "df_others4 = df_others3[['Consumption Date', 'Strategy','WC Amount', 'Consumption Type', 'Strategy name','Company Name',\n",
    "                    'Global Book name','Line of Business','Book Name', 'Portfolio name']]"
   ]
  },
  {
   "cell_type": "markdown",
   "metadata": {},
   "source": [
    "# joining others to tableau output"
   ]
  },
  {
   "cell_type": "code",
   "execution_count": 37,
   "metadata": {
    "collapsed": false
   },
   "outputs": [],
   "source": [
    "result_others = pd.DataFrame(columns=cols)\n",
    "result_others['Consumption Date'] = df_others4['Consumption Date']\n",
    "result_others['Consumption Type'] = df_others4['Consumption Type']\n",
    "result_others['WC Amount'] = df_others4['WC Amount']\n",
    "result_others['Strategy'] = df_others4['Strategy']\n",
    "result_others['Strategy name'] = df_others4['Strategy name']\n",
    "result_others['Company Name'] = df_others4['Company Name']\n",
    "result_others['Global Book name'] = df_others4['Global Book name']\n",
    "result_others['Line of Business'] = df_others4['Line of Business']\n",
    "result_others['Book Name'] = df_others4['Book Name']\n",
    "result_others['Portfolio name'] = df_others4['Portfolio name']"
   ]
  },
  {
   "cell_type": "code",
   "execution_count": 38,
   "metadata": {
    "collapsed": false
   },
   "outputs": [],
   "source": [
    "df_final = pd.concat([df_output,result_others]).reset_index(drop=True)"
   ]
  },
  {
   "cell_type": "markdown",
   "metadata": {},
   "source": [
    "# Export 1"
   ]
  },
  {
   "cell_type": "code",
   "execution_count": 39,
   "metadata": {
    "collapsed": false
   },
   "outputs": [],
   "source": [
    "# before macros\n",
    "#writer = pd.ExcelWriter('before macros.xlsx')\n",
    "#df.to_excel(writer, 'data')\n",
    "#writer.save()"
   ]
  },
  {
   "cell_type": "code",
   "execution_count": 40,
   "metadata": {
    "collapsed": false
   },
   "outputs": [],
   "source": [
    "# stock in transit\n",
    "#writer = pd.ExcelWriter('stock_in_transit.xlsx')\n",
    "#stock_in_transit.to_excel(writer, 'data')\n",
    "#writer.save()"
   ]
  },
  {
   "cell_type": "code",
   "execution_count": 41,
   "metadata": {
    "collapsed": false
   },
   "outputs": [],
   "source": [
    "# payment terms\n",
    "#writer = pd.ExcelWriter('payment_terms.xlsx')\n",
    "#payment_terms.to_excel(writer, 'data')\n",
    "#writer.save()"
   ]
  },
  {
   "cell_type": "code",
   "execution_count": 42,
   "metadata": {
    "collapsed": false
   },
   "outputs": [],
   "source": [
    "# tableau data\n",
    "#writer = pd.ExcelWriter('tableau data.xlsx')\n",
    "#df_output.to_excel(writer, 'Tableau')\n",
    "#writer.save()"
   ]
  },
  {
   "cell_type": "code",
   "execution_count": 43,
   "metadata": {
    "collapsed": false
   },
   "outputs": [],
   "source": [
    "# others\n",
    "#writer = pd.ExcelWriter('others.xlsx')\n",
    "#df_others.to_excel(writer, 'data')\n",
    "#writer.save()"
   ]
  },
  {
   "cell_type": "code",
   "execution_count": 44,
   "metadata": {
    "collapsed": false
   },
   "outputs": [],
   "source": [
    "# others with description\n",
    "#writer = pd.ExcelWriter('others desc.xlsx')\n",
    "#df_others4.to_excel(writer, 'data')\n",
    "#writer.save()"
   ]
  },
  {
   "cell_type": "code",
   "execution_count": 45,
   "metadata": {
    "collapsed": false
   },
   "outputs": [],
   "source": [
    "# final output\n",
    "#writer = pd.ExcelWriter('final output.xlsx')\n",
    "#df_final.to_excel(writer, 'data')\n",
    "#writer.save()"
   ]
  },
  {
   "cell_type": "markdown",
   "metadata": {},
   "source": [
    "# Gross Working Capital in the Radar Report Date"
   ]
  },
  {
   "cell_type": "code",
   "execution_count": 46,
   "metadata": {
    "collapsed": false
   },
   "outputs": [],
   "source": [
    "import matplotlib.pyplot as plt\n",
    "%matplotlib inline"
   ]
  },
  {
   "cell_type": "code",
   "execution_count": 47,
   "metadata": {
    "collapsed": false
   },
   "outputs": [],
   "source": [
    "#creating data sets for the plot\n",
    "\n",
    "df_type = df_final.groupby(['Consumption Date', 'Consumption Type'])['WC Amount'].sum().reset_index()\n",
    "\n",
    "#stock in transit for plot\n",
    "df_transit = df_type[(df_type['Consumption Type'] == 'Stock in Transit')]\n",
    "\n",
    "#payment terms for plot\n",
    "df_terms = df_type[(df_type['Consumption Type'] == 'Payment Terms')]\n",
    "\n",
    "#other for plot\n",
    "df_plot_others = df_type[(df_type['Consumption Type'] == 'Other')]\n",
    "\n",
    "#others unassigned for plot\n",
    "df_plot_others_u = df_type[(df_type['Consumption Type'] == 'Other Unassigned')]\n"
   ]
  },
  {
   "cell_type": "code",
   "execution_count": 48,
   "metadata": {
    "collapsed": false,
    "scrolled": false
   },
   "outputs": [
    {
     "data": {
      "image/png": "[encoded data removed]",
      "text/plain": [
       "<matplotlib.figure.Figure at 0x9b29080>"
      ]
     },
     "metadata": {},
     "output_type": "display_data"
    }
   ],
   "source": [
    "# group by strategies the total amount\n",
    "daily_wc = df_final.groupby('Consumption Date')['WC Amount'].sum().reset_index()\n",
    "\n",
    "# our GWC amount for the date\n",
    "radar_date_wc = daily_wc.set_index('Consumption Date').loc[radar_date]['WC Amount']\n",
    "\n",
    "# Create the figure and the axes\n",
    "fig, ax = plt.subplots()\n",
    "\n",
    "# Plot the data\n",
    "daily_wc.plot(kind='line',y='WC Amount', x='Consumption Date', ax=ax, figsize=(12, 6), color= 'black', label='All')\n",
    "df_transit.plot(kind='line', y='WC Amount', x='Consumption Date',ax=ax, figsize=(12,6), color='orange', label= 'Stock in Transit')\n",
    "df_terms.plot(kind='line', y='WC Amount', x='Consumption Date',ax=ax, figsize=(12,6), color='blue', label='Payment Terms')\n",
    "df_plot_others.plot(kind='line', y='WC Amount', x='Consumption Date',ax=ax, figsize=(12,6), color='brown', label='Other')\n",
    "df_plot_others_u.plot(kind='line', y='WC Amount', x='Consumption Date',ax=ax, figsize=(12,6), color='pink',\n",
    "                      label='Other Unassigned')\n",
    "\n",
    "# Set limits and labels\n",
    "ax.set_xlim(['2017-08-20', end_date])\n",
    "ax.set(title=radar_report, xlabel='Consumption Date', ylabel='$M')\n",
    "\n",
    "# Add a line for radar date\n",
    "ax.axvline(x=radar_date, color='r',\n",
    "           label=radar_date,\n",
    "           linestyle='--',\n",
    "           linewidth=1)\n",
    "\n",
    "ax.annotate(radar_date_wc,\n",
    "            xy=(radar_date, radar_date_wc), xycoords='data',\n",
    "           xytext=(radar_date, radar_date_wc + 100), textcoords='data',\n",
    "           arrowprops=dict(arrowstyle=\"->\",\n",
    "                          connectionstyle=\"arc3\")\n",
    "            )\n",
    "\n",
    "# Hide the legend\n",
    "ax.legend().set_visible(True)\n",
    "\n",
    "# Title the figure\n",
    "fig.suptitle('GROSS WORKING CAPITAL', fontsize=14, fontweight='bold');"
   ]
  },
  {
   "cell_type": "markdown",
   "metadata": {},
   "source": [
    "# Other Gross Working Capital"
   ]
  },
  {
   "cell_type": "code",
   "execution_count": 49,
   "metadata": {
    "collapsed": false,
    "scrolled": false
   },
   "outputs": [
    {
     "data": {
      "image/png": "[encoded data removed]",
      "text/plain": [
       "<matplotlib.figure.Figure at 0x2d951470>"
      ]
     },
     "metadata": {},
     "output_type": "display_data"
    }
   ],
   "source": [
    "# we are only interested in others so we filter the final df\n",
    "df_final_others = df_final[df_final['Consumption Type'] == 'Other']\n",
    "\n",
    "#group by day\n",
    "daily_wc_others = df_final_others.groupby('Consumption Date')['WC Amount'].sum().reset_index()\n",
    "\n",
    "# value of others in radar date\n",
    "radar_date_wc_other = daily_wc_others.set_index('Consumption Date').loc[radar_date]['WC Amount']\n",
    "\n",
    "# Create the figure and the axes\n",
    "fig, ax = plt.subplots()\n",
    "\n",
    "# Plot the data\n",
    "daily_wc_others.plot(kind='line',y='WC Amount', x='Consumption Date', ax=ax, figsize=(10, 6), color = 'brown')\n",
    "\n",
    "# Set limits and labels\n",
    "ax.set_xlim(['2017-08-20', end_date])\n",
    "ax.set(title=radar_report, xlabel='Consumption Date', ylabel='$M')\n",
    "\n",
    "# Add a line for radar date\n",
    "ax.axvline(x=radar_date, color='r',\n",
    "           label=radar_date,\n",
    "           linestyle='--',\n",
    "           linewidth=1)\n",
    "\n",
    "ax.annotate(radar_date_wc_other,\n",
    "            xy=(radar_date, radar_date_wc_other), xycoords='data',\n",
    "           xytext=(radar_date, radar_date_wc_other - 30), textcoords='data',\n",
    "           arrowprops=dict(arrowstyle=\"->\",\n",
    "                          connectionstyle=\"arc3\")\n",
    "            )\n",
    "\n",
    "# Hide the legend\n",
    "ax.legend().set_visible(False)\n",
    "\n",
    "# Title the figure\n",
    "fig.suptitle('OTHERS GROSS WORKING CAPITAL', fontsize=14, fontweight='bold');"
   ]
  },
  {
   "cell_type": "markdown",
   "metadata": {},
   "source": [
    "# CRUDE ADJUSTMENTS"
   ]
  },
  {
   "cell_type": "code",
   "execution_count": 50,
   "metadata": {
    "collapsed": false
   },
   "outputs": [],
   "source": [
    "# Portfolio name containing 'Emissions' assigned to Other\n",
    "\n",
    "df_final['Consumption Type'] = np.where(df_final['Portfolio name'].str.contains('Emissions') == True,\n",
    "                                        'Other', df_final['Consumption Type'])"
   ]
  },
  {
   "cell_type": "markdown",
   "metadata": {},
   "source": [
    "# HEAVY ADJUSTMENTS"
   ]
  },
  {
   "cell_type": "code",
   "execution_count": 51,
   "metadata": {
    "collapsed": true
   },
   "outputs": [],
   "source": [
    "# Prepayment to NICO\n",
    "\n",
    "df_final['Consumption Type'] = np.where(df_final['Strategy name'].str.contains('NICO') == True,\n",
    "                                        'Prepayment to NICO', df_final['Consumption Type'])"
   ]
  },
  {
   "cell_type": "code",
   "execution_count": 52,
   "metadata": {
    "collapsed": false
   },
   "outputs": [],
   "source": [
    "# East Arbitrage to Stock in Transit\n",
    "\n",
    "df_final['Consumption Type'] = np.where((df_final['Portfolio name'] == 'GVA T-Cracked East ARB') & \\\n",
    "                                        (df_final['Consumption Type'] != 'Margin Call'),\n",
    "                                        'Stock in Transit', df_final['Consumption Type'])\n",
    "# adjust Stock in Transit days \n",
    "df_final['TTD influence on WC consumption'] = np.where(\n",
    "    (df_final['Portfolio name'] == 'GVA T-Cracked East ARB') & \\\n",
    "    (df_final['TTD influence on WC consumption'].isnull() == True) & \\\n",
    "    (df_final['Consumption Type'] != 'Margin Call'),\n",
    "30, df_final['TTD influence on WC consumption'])\n",
    "\n",
    "# adjust country to SG\n",
    "df_final['Incoterms 2 country (-).1'] = np.where(\n",
    "    (df_final['Portfolio name'] == 'GVA T-Cracked East ARB') & \\\n",
    "    (df_final['Incoterms 2 country (-).1'].isnull() == True) & \\\n",
    "    (df_final['Consumption Type'] != 'Margin Call'),\n",
    "'SG', df_final['Incoterms 2 country (-).1'])"
   ]
  },
  {
   "cell_type": "code",
   "execution_count": 55,
   "metadata": {
    "collapsed": false
   },
   "outputs": [],
   "source": [
    "# LAP to Stock in Transit\n",
    "\n",
    "df_final['Consumption Type'] = np.where(df_final['Company Name'] == 'LAP', 'Stock in Transit', df_final['Consumption Type'])\n",
    "\n",
    "# adjust Stock in Transit days \n",
    "df_final['TTD influence on WC consumption'] = np.where(\n",
    "    (df_final['Company Name'] == 'LAP') & (df_final['TTD influence on WC consumption'].isnull() == True),\n",
    "30, df_final['TTD influence on WC consumption'])\n",
    "\n",
    "# adjust country to SG\n",
    "df_final['Incoterms 2 country (-).1'] = np.where(\n",
    "    (df_final['Company Name'] == 'LAP') & (df_final['Incoterms 2 country (-).1'].isnull() == True),\n",
    "'SG', df_final['Incoterms 2 country (-).1'])"
   ]
  },
  {
   "cell_type": "code",
   "execution_count": 56,
   "metadata": {
    "collapsed": true
   },
   "outputs": [],
   "source": [
    "# all others in GVA T-Cracked Storages to Stock in transit\n",
    "\n",
    "df_final['Consumption Type'] = np.where(\n",
    "    (df_final['Portfolio name'] == 'GVA T-Cracked Storages') & (df_final['Consumption Type'] == 'Other'),\n",
    "'Stock in Transit', df_final['Consumption Type'])\n",
    "\n",
    "# adjust Stock in Transit days \n",
    "df_final['TTD influence on WC consumption'] = np.where(\n",
    "    (df_final['Portfolio name'] == 'GVA T-Cracked Storages') & \\\n",
    "    (df_final['TTD influence on WC consumption'].isnull() == True) & \\\n",
    "    (df_final['Consumption Type'] != 'Margin Call'),\n",
    "30, df_final['TTD influence on WC consumption'])\n",
    "\n",
    "# adjust country to NL\n",
    "df_final['Incoterms 2 country (-).1'] = np.where(\n",
    "    (df_final['Portfolio name'] == 'GVA T-Cracked Storages') & \\\n",
    "    (df_final['Incoterms 2 country (-).1'].isnull() == True) & \\\n",
    "    (df_final['Consumption Type'] != 'Margin Call'),\n",
    "'NL', df_final['Incoterms 2 country (-).1'])\n"
   ]
  },
  {
   "cell_type": "markdown",
   "metadata": {},
   "source": [
    "# DISTILLATES"
   ]
  },
  {
   "cell_type": "markdown",
   "metadata": {},
   "source": [
    "### ENERGEN I"
   ]
  },
  {
   "cell_type": "code",
   "execution_count": 109,
   "metadata": {
    "collapsed": true
   },
   "outputs": [],
   "source": [
    "# str. 512092 to Payment Terms\n",
    "df_final['Consumption Type'] = np.where((df_final['Strategy'] == 512092) & \\\n",
    "                                        (df_final['Consumption Type'] != 'Margin Call'),\n",
    "                                        'Payment Terms', df_final['Consumption Type'])\n",
    "\n",
    "# adjust Payment Terms days \n",
    "df_final['PDD influence on WC consumption'] = np.where(\n",
    "    (df_final['Strategy'] == 512092) & \\\n",
    "    (df_final['PDD influence on WC consumption'].isnull() == True) & \\\n",
    "    (df_final['Consumption Type'] != 'Margin Call'),\n",
    "30, df_final['PDD influence on WC consumption'])\n",
    "\n",
    "# adjust Counterparty (+)\n",
    "df_final['Counterparty (+)'] = np.where(\n",
    "    (df_final['Strategy'] == 512092) & \\\n",
    "    (df_final['Counterparty (+)'].isnull() == True) &\\\n",
    "    (df_final['Consumption Type'] != 'Margin Call'),\n",
    "str(df_final.set_index('Strategy').loc[512092]['Counterparty (+)'].unique()[0]),\n",
    "    df_final['Counterparty (+)'])\n",
    "\n",
    "# adjust Counterparty (-)\n",
    "df_final['Counterparty (-)'] = np.where(\n",
    "    (df_final['Strategy'] == 512092) &\\\n",
    "        (df_final['Counterparty (-)'].isnull() == True) &\\\n",
    "        (df_final['Consumption Type'] != 'Margin Call'),\n",
    "str(df_final.set_index('Strategy').loc[512092]['Counterparty (-)'].unique()[0]),\n",
    "    df_final['Counterparty (-)'])"
   ]
  },
  {
   "cell_type": "code",
   "execution_count": 110,
   "metadata": {
    "collapsed": true
   },
   "outputs": [],
   "source": [
    "# str. 512619 to Payment Terms\n",
    "df_final['Consumption Type'] = np.where((df_final['Strategy'] == 512619) & \\\n",
    "                                        (df_final['Consumption Type'] != 'Margin Call'),\n",
    "                                        'Payment Terms', df_final['Consumption Type'])\n",
    "\n",
    "# adjust Payment Terms days \n",
    "df_final['PDD influence on WC consumption'] = np.where(\n",
    "    (df_final['Strategy'] == 512619) & \\\n",
    "    (df_final['PDD influence on WC consumption'].isnull() == True) & \\\n",
    "    (df_final['Consumption Type'] != 'Margin Call'),\n",
    "30, df_final['PDD influence on WC consumption'])\n",
    "\n",
    "# adjust Counterparty (+)\n",
    "df_final['Counterparty (+)'] = np.where(\n",
    "    (df_final['Strategy'] == 512619) & \\\n",
    "    (df_final['Counterparty (+)'].isnull() == True) &\\\n",
    "    (df_final['Consumption Type'] != 'Margin Call'),\n",
    "str(df_final.set_index('Strategy').loc[512619]['Counterparty (+)'].unique()[0]),\n",
    "    df_final['Counterparty (+)'])\n",
    "\n",
    "# adjust Counterparty (-)\n",
    "df_final['Counterparty (-)'] = np.where(\n",
    "    (df_final['Strategy'] == 512619) &\\\n",
    "        (df_final['Counterparty (-)'].isnull() == True) &\\\n",
    "        (df_final['Consumption Type'] != 'Margin Call'),\n",
    "str(df_final.set_index('Strategy').loc[512619]['Counterparty (-)'].unique()[0]),\n",
    "    df_final['Counterparty (-)'])"
   ]
  },
  {
   "cell_type": "markdown",
   "metadata": {},
   "source": [
    "### ENERGEN II"
   ]
  },
  {
   "cell_type": "code",
   "execution_count": 111,
   "metadata": {
    "collapsed": true
   },
   "outputs": [],
   "source": [
    "# str. 512277 to Stock in Transit\n",
    "df_final['Consumption Type'] = np.where((df_final['Strategy'] == 512277) &\\\n",
    "                                        (df_final['Consumption Type'] != 'Margin Call'),\n",
    "                                        'Stock in Transit', df_final['Consumption Type'])\n",
    "\n",
    "# adjust Stock in Transit days \n",
    "df_final['TTD influence on WC consumption'] = np.where(\n",
    "    (df_final['Strategy'] == 512277) &\\\n",
    "    (df_final['TTD influence on WC consumption'].isnull() == True) &\\\n",
    "    (df_final['Consumption Type'] != 'Margin Call'),\n",
    "30, df_final['TTD influence on WC consumption'])\n",
    "\n",
    "# adjust country\n",
    "df_final['Incoterms 2 country (-).1'] = np.where(\n",
    "    (df_final['Strategy'] == 512277) &\\\n",
    "    (df_final['Incoterms 2 country (-).1'].isnull() == True) &\\\n",
    "    (df_final['Consumption Type'] != 'Margin Call'),\n",
    "str(df_final.set_index('Strategy').loc[512277]['Incoterms 2 country (-).1'].unique()[0]),\n",
    "    df_final['Incoterms 2 country (-).1'])"
   ]
  },
  {
   "cell_type": "code",
   "execution_count": 112,
   "metadata": {
    "collapsed": true
   },
   "outputs": [],
   "source": [
    "# str. 512413 to Stock in Transit\n",
    "df_final['Consumption Type'] = np.where((df_final['Strategy'] == 512413) &\\\n",
    "                                        (df_final['Consumption Type'] != 'Margin Call'),\n",
    "                                        'Stock in Transit', df_final['Consumption Type'])\n",
    "\n",
    "# adjust Stock in Transit days \n",
    "df_final['TTD influence on WC consumption'] = np.where(\n",
    "    (df_final['Strategy'] == 512413) &\\\n",
    "    (df_final['TTD influence on WC consumption'].isnull() == True) &\\\n",
    "    (df_final['Consumption Type'] != 'Margin Call'),\n",
    "30, df_final['TTD influence on WC consumption'])\n",
    "\n",
    "# adjust country\n",
    "df_final['Incoterms 2 country (-).1'] = np.where(\n",
    "    (df_final['Strategy'] == 512413) &\\\n",
    "    (df_final['Incoterms 2 country (-).1'].isnull() == True) &\\\n",
    "    (df_final['Consumption Type'] != 'Margin Call'),\n",
    "str(df_final.set_index('Strategy').loc[512413]['Incoterms 2 country (-).1'].unique()[0]),\n",
    "    df_final['Incoterms 2 country (-).1'])"
   ]
  },
  {
   "cell_type": "code",
   "execution_count": 113,
   "metadata": {
    "collapsed": true
   },
   "outputs": [],
   "source": [
    "# str. 511914 to Stock in Transit\n",
    "df_final['Consumption Type'] = np.where((df_final['Strategy'] == 511914) &\\\n",
    "                                        (df_final['Consumption Type'] != 'Margin Call'),\n",
    "                                        'Stock in Transit', df_final['Consumption Type'])\n",
    "\n",
    "# adjust Stock in Transit days \n",
    "df_final['TTD influence on WC consumption'] = np.where(\n",
    "    (df_final['Strategy'] == 511914) &\\\n",
    "    (df_final['TTD influence on WC consumption'].isnull() == True) &\\\n",
    "    (df_final['Consumption Type'] != 'Margin Call'),\n",
    "30, df_final['TTD influence on WC consumption'])\n",
    "\n",
    "# adjust country\n",
    "df_final['Incoterms 2 country (-).1'] = np.where(\n",
    "    (df_final['Strategy'] == 511914) &\\\n",
    "    (df_final['Incoterms 2 country (-).1'].isnull() == True) &\\\n",
    "    (df_final['Consumption Type'] != 'Margin Call'),\n",
    "str(df_final.set_index('Strategy').loc[511914]['Incoterms 2 country (-).1'].unique()[0]),\n",
    "    df_final['Incoterms 2 country (-).1'])"
   ]
  },
  {
   "cell_type": "code",
   "execution_count": 114,
   "metadata": {
    "collapsed": true
   },
   "outputs": [],
   "source": [
    "# str. 509769 to Stock in Transit\n",
    "df_final['Consumption Type'] = np.where((df_final['Strategy'] == 509769) &\\\n",
    "                                        (df_final['Consumption Type'] != 'Margin Call'),\n",
    "                                        'Stock in Transit', df_final['Consumption Type'])\n",
    "\n",
    "# adjust Stock in Transit days \n",
    "df_final['TTD influence on WC consumption'] = np.where(\n",
    "    (df_final['Strategy'] == 509769) &\\\n",
    "    (df_final['TTD influence on WC consumption'].isnull() == True) &\\\n",
    "    (df_final['Consumption Type'] != 'Margin Call'),\n",
    "30, df_final['TTD influence on WC consumption'])\n",
    "\n",
    "# adjust country\n",
    "df_final['Incoterms 2 country (-).1'] = np.where(\n",
    "    (df_final['Strategy'] == 509769) &\\\n",
    "    (df_final['Incoterms 2 country (-).1'].isnull() == True) &\\\n",
    "    (df_final['Consumption Type'] != 'Margin Call'),\n",
    "str(df_final.set_index('Strategy').loc[509769]['Incoterms 2 country (-).1'].unique()[0]),\n",
    "    df_final['Incoterms 2 country (-).1'])"
   ]
  },
  {
   "cell_type": "code",
   "execution_count": 115,
   "metadata": {
    "collapsed": true
   },
   "outputs": [],
   "source": [
    "# str. 509874 to Stock in Transit\n",
    "df_final['Consumption Type'] = np.where((df_final['Strategy'] == 509874) &\\\n",
    "                                        (df_final['Consumption Type'] != 'Margin Call'),\n",
    "                                        'Stock in Transit', df_final['Consumption Type'])\n",
    "\n",
    "# adjust Stock in Transit days \n",
    "df_final['TTD influence on WC consumption'] = np.where(\n",
    "    (df_final['Strategy'] == 509874) &\\\n",
    "    (df_final['TTD influence on WC consumption'].isnull() == True) &\\\n",
    "    (df_final['Consumption Type'] != 'Margin Call'),\n",
    "30, df_final['TTD influence on WC consumption'])\n",
    "\n",
    "# adjust country\n",
    "df_final['Incoterms 2 country (-).1'] = np.where(\n",
    "    (df_final['Strategy'] == 509874) &\\\n",
    "    (df_final['Incoterms 2 country (-).1'].isnull() == True) &\\\n",
    "    (df_final['Consumption Type'] != 'Margin Call'),\n",
    "str(df_final.set_index('Strategy').loc[509874]['Incoterms 2 country (-).1'].unique()[0]),\n",
    "    df_final['Incoterms 2 country (-).1'])"
   ]
  },
  {
   "cell_type": "code",
   "execution_count": 116,
   "metadata": {
    "collapsed": true
   },
   "outputs": [],
   "source": [
    "# str. 509377 to Stock in Transit\n",
    "df_final['Consumption Type'] = np.where((df_final['Strategy'] == 509377) &\\\n",
    "                                        (df_final['Consumption Type'] != 'Margin Call'),\n",
    "                                        'Stock in Transit', df_final['Consumption Type'])\n",
    "\n",
    "# adjust Stock in Transit days \n",
    "df_final['TTD influence on WC consumption'] = np.where(\n",
    "    (df_final['Strategy'] == 509377) &\\\n",
    "    (df_final['TTD influence on WC consumption'].isnull() == True) &\\\n",
    "    (df_final['Consumption Type'] != 'Margin Call'),\n",
    "30, df_final['TTD influence on WC consumption'])\n",
    "\n",
    "# adjust country\n",
    "df_final['Incoterms 2 country (-).1'] = np.where(\n",
    "    (df_final['Strategy'] == 509377) &\\\n",
    "    (df_final['Incoterms 2 country (-).1'].isnull() == True) &\\\n",
    "    (df_final['Consumption Type'] != 'Margin Call'),\n",
    "str(df_final.set_index('Strategy').loc[509377]['Incoterms 2 country (-).1'].unique()[0]),\n",
    "    df_final['Incoterms 2 country (-).1'])"
   ]
  },
  {
   "cell_type": "markdown",
   "metadata": {
    "collapsed": true
   },
   "source": [
    "### ENERGEN III"
   ]
  },
  {
   "cell_type": "code",
   "execution_count": 117,
   "metadata": {
    "collapsed": true
   },
   "outputs": [],
   "source": [
    "# a portfolio containing Yemen goes to Stock in Transit. Adjust days and country\n",
    "\n",
    "df_final['Consumption Type'] = np.where(\n",
    "    (df_final['Portfolio name'].str.contains('Yemen') == True) &\\\n",
    "    (df_final['Consumption Type'] != 'Margin Call'),\n",
    "                                        'Stock in Transit', df_final['Consumption Type'])\n",
    "\n",
    "# adjust Stock in Transit days \n",
    "df_final['TTD influence on WC consumption'] = np.where(\n",
    "    (df_final['Portfolio name'].str.contains('Yemen') == True) &\\\n",
    "    (df_final['TTD influence on WC consumption'].isnull() == True) &\\\n",
    "    (df_final['Consumption Type'] != 'Margin Call'),\n",
    "30, df_final['TTD influence on WC consumption'])\n",
    "\n",
    "# adjust country\n",
    "df_final['Incoterms 2 country (-).1'] = np.where(\n",
    "    (df_final['Strategy'] == 509377) &\\\n",
    "    (df_final['Incoterms 2 country (-).1'].isnull() == True) &\\\n",
    "    (df_final['Consumption Type'] != 'Margin Call'),\n",
    "str(df_final.set_index('Strategy').loc[509377]['Incoterms 2 country (-).1'].unique()[0]),\n",
    "    df_final['Incoterms 2 country (-).1'])\n"
   ]
  },
  {
   "cell_type": "markdown",
   "metadata": {},
   "source": [
    "### ENERGEN IV"
   ]
  },
  {
   "cell_type": "code",
   "execution_count": 118,
   "metadata": {
    "collapsed": true
   },
   "outputs": [],
   "source": [
    "# strategy 521769 from Payment Terms to Stock in Transit\n",
    "\n",
    "df_final['Consumption Type'] = np.where(\n",
    "    (df_final['Strategy'] == 521769) & (df_final['Consumption Type'] == 'Payment Terms'),\n",
    "    'Stock in Transit', df_final['Consumption Type'])"
   ]
  },
  {
   "cell_type": "markdown",
   "metadata": {},
   "source": [
    "### LAP"
   ]
  },
  {
   "cell_type": "code",
   "execution_count": 119,
   "metadata": {
    "collapsed": true
   },
   "outputs": [],
   "source": [
    "# All LAP sent to Stock in Transit , except margin calls\n",
    "\n",
    "df_final['Consumption Type'] = np.where(\n",
    "    (df_final['Company Name'] == 'LAP') &\\\n",
    "    (df_final['Consumption Type'] != 'Margin Call'),\n",
    "    'Stock in Transit', df_final['Consumption Type'])\n",
    "\n",
    "# adjust Stock in Transit days \n",
    "df_final['TTD influence on WC consumption'] = np.where(\n",
    "    (df_final['Company Name'] == 'LAP') & \\\n",
    "    (df_final['TTD influence on WC consumption'].isnull() == True) & \\\n",
    "    (df_final['Consumption Type'] != 'Margin Call') ,\n",
    "30, df_final['TTD influence on WC consumption'])\n",
    "\n",
    "# adjust country to SG\n",
    "df_final['Incoterms 2 country (-).1'] = np.where(\n",
    "    (df_final['Company Name'] == 'LAP') & \\\n",
    "    (df_final['Incoterms 2 country (-).1'].isnull() == True) & \\\n",
    "    (df_final['Consumption Type'] != 'Margin Call'),\n",
    "'SG', df_final['Incoterms 2 country (-).1'])\n"
   ]
  },
  {
   "cell_type": "markdown",
   "metadata": {},
   "source": [
    "### Benelux"
   ]
  },
  {
   "cell_type": "code",
   "execution_count": 120,
   "metadata": {
    "collapsed": true
   },
   "outputs": [],
   "source": [
    "# All BEN sent to Stock in Transit , except margin calls\n",
    "\n",
    "df_final['Consumption Type'] = np.where(\n",
    "    (df_final['Company Name'] == 'BEN') &\\\n",
    "    (df_final['Consumption Type'] != 'Margin Call'),\n",
    "    'Stock in Transit', df_final['Consumption Type'])\n",
    "\n",
    "# adjust Stock in Transit days \n",
    "df_final['TTD influence on WC consumption'] = np.where(\n",
    "    (df_final['Company Name'] == 'BEN') & \\\n",
    "    (df_final['TTD influence on WC consumption'].isnull() == True) & \\\n",
    "    (df_final['Consumption Type'] != 'Margin Call') ,\n",
    "30, df_final['TTD influence on WC consumption'])\n",
    "\n",
    "# adjust country to NL\n",
    "df_final['Incoterms 2 country (-).1'] = np.where(\n",
    "    (df_final['Company Name'] == 'BEN') & \\\n",
    "    (df_final['Incoterms 2 country (-).1'].isnull() == True) & \\\n",
    "    (df_final['Consumption Type'] != 'Margin Call'),\n",
    "'NL', df_final['Incoterms 2 country (-).1'])"
   ]
  },
  {
   "cell_type": "markdown",
   "metadata": {},
   "source": [
    "### Portfolios from Others to Stock in Transit"
   ]
  },
  {
   "cell_type": "code",
   "execution_count": 121,
   "metadata": {
    "collapsed": true
   },
   "outputs": [],
   "source": [
    "# all others in GVA Storages NWE Gasoil to Stock in transit\n",
    "\n",
    "df_final['Consumption Type'] = np.where(\n",
    "    (df_final['Portfolio name'] == 'GVA Storages NWE Gasoil') &\\\n",
    "    (df_final['Consumption Type'] == 'Other'),\n",
    "'Stock in Transit', df_final['Consumption Type'])\n",
    "\n",
    "# adjust Stock in Transit days \n",
    "df_final['TTD influence on WC consumption'] = np.where(\n",
    "    (df_final['Portfolio name'] == 'GVA Storages NWE Gasoil') &\\\n",
    "    (df_final['TTD influence on WC consumption'].isnull() == True) &\\\n",
    "    (df_final['Consumption Type'] != 'Margin Call'),\n",
    "30, df_final['TTD influence on WC consumption'])\n",
    "\n",
    "# adjust country\n",
    "df_final['Incoterms 2 country (-).1'] = np.where(\n",
    "    (df_final['Portfolio name'] == 'GVA Storages NWE Gasoil') &\\\n",
    "    (df_final['Incoterms 2 country (-).1'].isnull() == True) &\\\n",
    "    (df_final['Consumption Type'] != 'Margin Call'),\n",
    "str(df_final.set_index('Portfolio name').loc['GVA Storages NWE Gasoil']['Incoterms 2 country (-).1'].unique()[0]),\n",
    "    df_final['Incoterms 2 country (-).1'])\n"
   ]
  },
  {
   "cell_type": "code",
   "execution_count": 122,
   "metadata": {
    "collapsed": true
   },
   "outputs": [],
   "source": [
    "# all others in GVA Storages NWE ULSD to Stock in transit\n",
    "\n",
    "df_final['Consumption Type'] = np.where(\n",
    "    (df_final['Portfolio name'] == 'GVA Storages NWE ULSD') &\\\n",
    "    (df_final['Consumption Type'] == 'Other'),\n",
    "'Stock in Transit', df_final['Consumption Type'])\n",
    "\n",
    "# adjust Stock in Transit days \n",
    "df_final['TTD influence on WC consumption'] = np.where(\n",
    "    (df_final['Portfolio name'] == 'GVA Storages NWE ULSD') &\\\n",
    "    (df_final['TTD influence on WC consumption'].isnull() == True) &\\\n",
    "    (df_final['Consumption Type'] != 'Margin Call'),\n",
    "30, df_final['TTD influence on WC consumption'])\n",
    "\n",
    "# adjust country\n",
    "df_final['Incoterms 2 country (-).1'] = np.where(\n",
    "    (df_final['Portfolio name'] == 'GVA Storages NWE ULSD') &\\\n",
    "    (df_final['Incoterms 2 country (-).1'].isnull() == True) &\\\n",
    "    (df_final['Consumption Type'] != 'Margin Call'),\n",
    "str(df_final.set_index('Portfolio name').loc['GVA Storages NWE ULSD']['Incoterms 2 country (-).1'].unique()[0]),\n",
    "    df_final['Incoterms 2 country (-).1'])\n"
   ]
  },
  {
   "cell_type": "markdown",
   "metadata": {},
   "source": [
    "### Portfolios from Other to Payment Terms"
   ]
  },
  {
   "cell_type": "code",
   "execution_count": 123,
   "metadata": {
    "collapsed": true
   },
   "outputs": [],
   "source": [
    "# all others in GVA System Baltics (Vysotsk/Primorsk) to Payment Terms\n",
    "\n",
    "df_final['Consumption Type'] = np.where(\n",
    "    (df_final['Portfolio name'] == 'GVA System Baltics (Vysotsk/Primorsk)') &\\\n",
    "    (df_final['Consumption Type'] == 'Other'),\n",
    "'Payment Terms', df_final['Consumption Type'])\n",
    "\n",
    "# adjust Payment Terms days \n",
    "df_final['PDD influence on WC consumption'] = np.where(\n",
    "    (df_final['Portfolio name'] == 'GVA System Baltics (Vysotsk/Primorsk)') & \\\n",
    "    (df_final['PDD influence on WC consumption'].isnull() == True) & \\\n",
    "    (df_final['Consumption Type'] != 'Margin Call'),\n",
    "30, df_final['PDD influence on WC consumption'])\n",
    "\n",
    "# adjust Counterparty (+)\n",
    "df_final['Counterparty (+)'] = np.where(\n",
    "    (df_final['Portfolio name'] == 'GVA System Baltics (Vysotsk/Primorsk)') & \\\n",
    "    (df_final['Counterparty (+)'].isnull() == True) &\\\n",
    "    (df_final['Consumption Type'] != 'Margin Call'),\n",
    "str(df_final.set_index('Portfolio name').loc['GVA System Baltics (Vysotsk/Primorsk)']['Counterparty (+)'].unique()[0]),\n",
    "    df_final['Counterparty (+)'])\n",
    "\n",
    "# adjust Counterparty (-)\n",
    "df_final['Counterparty (-)'] = np.where(\n",
    "    (df_final['Portfolio name'] == 'GVA System Baltics (Vysotsk/Primorsk)') &\\\n",
    "        (df_final['Counterparty (-)'].isnull() == True) &\\\n",
    "        (df_final['Consumption Type'] != 'Margin Call'),\n",
    "str(df_final.set_index('Portfolio name').loc['GVA System Baltics (Vysotsk/Primorsk)']['Counterparty (-)'].unique()[0]),\n",
    "    df_final['Counterparty (-)'])\n"
   ]
  },
  {
   "cell_type": "code",
   "execution_count": 124,
   "metadata": {
    "collapsed": true
   },
   "outputs": [],
   "source": [
    "# all others in GVA System Black Sea (Novo+Bourgas+Constanza to Payment Terms\n",
    "\n",
    "df_final['Consumption Type'] = np.where(\n",
    "    (df_final['Portfolio name'] == 'GVA System Black Sea (Novo+Bourgas+Constanza') &\\\n",
    "    (df_final['Consumption Type'] == 'Other'),\n",
    "'Payment Terms', df_final['Consumption Type'])\n",
    "\n",
    "# adjust Payment Terms days \n",
    "df_final['PDD influence on WC consumption'] = np.where(\n",
    "    (df_final['Portfolio name'] == 'GVA System Black Sea (Novo+Bourgas+Constanza') & \\\n",
    "    (df_final['PDD influence on WC consumption'].isnull() == True) & \\\n",
    "    (df_final['Consumption Type'] != 'Margin Call'),\n",
    "30, df_final['PDD influence on WC consumption'])\n",
    "\n",
    "# adjust Counterparty (+)\n",
    "df_final['Counterparty (+)'] = np.where(\n",
    "    (df_final['Portfolio name'] == 'GVA System Black Sea (Novo+Bourgas+Constanza') & \\\n",
    "    (df_final['Counterparty (+)'].isnull() == True) &\\\n",
    "    (df_final['Consumption Type'] != 'Margin Call'),\n",
    "str(df_final.set_index('Portfolio name').loc['GVA System Black Sea (Novo+Bourgas+Constanza']['Counterparty (+)'].unique()[0]),\n",
    "    df_final['Counterparty (+)'])\n",
    "\n",
    "# adjust Counterparty (-)\n",
    "df_final['Counterparty (-)'] = np.where(\n",
    "    (df_final['Portfolio name'] == 'GVA System Black Sea (Novo+Bourgas+Constanza') &\\\n",
    "        (df_final['Counterparty (-)'].isnull() == True) &\\\n",
    "        (df_final['Consumption Type'] != 'Margin Call'),\n",
    "str(df_final.set_index('Portfolio name').loc['GVA System Black Sea (Novo+Bourgas+Constanza']['Counterparty (-)'].unique()[0]),\n",
    "    df_final['Counterparty (-)'])\n"
   ]
  },
  {
   "cell_type": "markdown",
   "metadata": {
    "collapsed": false
   },
   "source": [
    "# LIGHT ADJUSTMENTS"
   ]
  },
  {
   "cell_type": "code",
   "execution_count": 61,
   "metadata": {
    "collapsed": false
   },
   "outputs": [],
   "source": [
    "# Meroil strategies that need to be assigned to Stock in Transit\n",
    "# 524180\n",
    "# 526002\n",
    "# 526003\n",
    "\n",
    "# LAP strategy to be assigned to Stock in Transit\n",
    "# 522945\n",
    "\n",
    "# ISAB payment terms\n",
    "# 523787\n",
    "# 523855"
   ]
  },
  {
   "cell_type": "code",
   "execution_count": 56,
   "metadata": {
    "collapsed": true
   },
   "outputs": [],
   "source": [
    "# str. 524180 to Stock in Transit\n",
    "df_final['Consumption Type'] = np.where(df_final['Strategy'] == 524180 & \\\n",
    "                                        (df_final['Consumption Type'] != 'Margin Call'),\n",
    "                                        'Stock in Transit', df_final['Consumption Type'])\n",
    "\n",
    "# adjust Stock in Transit days \n",
    "df_final['TTD influence on WC consumption'] = np.where(\n",
    "    (df_final['Strategy'] == 524180) & \\\n",
    "    (df_final['TTD influence on WC consumption'].isnull() == True) & \\\n",
    "    (df_final['Consumption Type'] != 'Margin Call'),\n",
    "30, df_final['TTD influence on WC consumption'])\n",
    "\n",
    "# adjust country to ES\n",
    "df_final['Incoterms 2 country (-).1'] = np.where(\n",
    "    (df_final['Strategy'] == 524180) & \\\n",
    "    (df_final['Incoterms 2 country (-).1'].isnull() == True) & \\\n",
    "    (df_final['Consumption Type'] != 'Margin Call'),\n",
    "'ES', df_final['Incoterms 2 country (-).1'])"
   ]
  },
  {
   "cell_type": "code",
   "execution_count": 57,
   "metadata": {
    "collapsed": true
   },
   "outputs": [],
   "source": [
    "# str. 526002 to Stock in Transit\n",
    "df_final['Consumption Type'] = np.where(df_final['Strategy'] == 526002 & \\\n",
    "                                        (df_final['Consumption Type'] != 'Margin Call'),\n",
    "                                        'Stock in Transit', df_final['Consumption Type'])\n",
    "\n",
    "# adjust Stock in Transit days \n",
    "df_final['TTD influence on WC consumption'] = np.where(\n",
    "    (df_final['Strategy'] == 526002) & \\\n",
    "    (df_final['TTD influence on WC consumption'].isnull() == True) & \\\n",
    "    (df_final['Consumption Type'] != 'Margin Call'),\n",
    "30, df_final['TTD influence on WC consumption'])\n",
    "\n",
    "# adjust country to ES\n",
    "df_final['Incoterms 2 country (-).1'] = np.where(\n",
    "    (df_final['Strategy'] == 526002) & \\\n",
    "    (df_final['Incoterms 2 country (-).1'].isnull() == True) & \\\n",
    "    (df_final['Consumption Type'] != 'Margin Call'),\n",
    "'ES', df_final['Incoterms 2 country (-).1'])"
   ]
  },
  {
   "cell_type": "code",
   "execution_count": 58,
   "metadata": {
    "collapsed": true
   },
   "outputs": [],
   "source": [
    "# str. 526003 to Stock in Transit\n",
    "df_final['Consumption Type'] = np.where(df_final['Strategy'] == 526003 & \\\n",
    "                                        (df_final['Consumption Type'] != 'Margin Call'),\n",
    "                                        'Stock in Transit', df_final['Consumption Type'])\n",
    "\n",
    "# adjust Stock in Transit days \n",
    "df_final['TTD influence on WC consumption'] = np.where(\n",
    "    (df_final['Strategy'] == 526003) & \\\n",
    "    (df_final['TTD influence on WC consumption'].isnull() == True) & \\\n",
    "    (df_final['Consumption Type'] != 'Margin Call'),\n",
    "30, df_final['TTD influence on WC consumption'])\n",
    "\n",
    "# adjust country to ES\n",
    "df_final['Incoterms 2 country (-).1'] = np.where(\n",
    "    (df_final['Strategy'] == 526003) & \\\n",
    "    (df_final['Incoterms 2 country (-).1'].isnull() == True) & \\\n",
    "    (df_final['Consumption Type'] != 'Margin Call'),\n",
    "'ES', df_final['Incoterms 2 country (-).1'])"
   ]
  },
  {
   "cell_type": "code",
   "execution_count": 59,
   "metadata": {
    "collapsed": true
   },
   "outputs": [],
   "source": [
    "# str. 522945 to Stock in Transit\n",
    "df_final['Consumption Type'] = np.where(df_final['Strategy'] == 522945 & \\\n",
    "                                        (df_final['Consumption Type'] != 'Margin Call'),\n",
    "                                        'Stock in Transit', df_final['Consumption Type'])\n",
    "\n",
    "# adjust Stock in Transit days \n",
    "df_final['TTD influence on WC consumption'] = np.where(\n",
    "    (df_final['Strategy'] == 522945) & \\\n",
    "    (df_final['TTD influence on WC consumption'].isnull() == True) & \\\n",
    "    (df_final['Consumption Type'] != 'Margin Call'),\n",
    "30, df_final['TTD influence on WC consumption'])\n",
    "\n",
    "# adjust country to SG\n",
    "df_final['Incoterms 2 country (-).1'] = np.where(\n",
    "    (df_final['Strategy'] == 522945) & \\\n",
    "    (df_final['Incoterms 2 country (-).1'].isnull() == True) & \\\n",
    "    (df_final['Consumption Type'] != 'Margin Call'),\n",
    "'SG', df_final['Incoterms 2 country (-).1'])"
   ]
  },
  {
   "cell_type": "code",
   "execution_count": 60,
   "metadata": {
    "collapsed": false
   },
   "outputs": [],
   "source": [
    "# str. 523787 to Payment Terms\n",
    "df_final['Consumption Type'] = np.where(df_final['Strategy'] == 523787 & \\\n",
    "                                        (df_final['Consumption Type'] != 'Margin Call'),\n",
    "                                        'Payment Terms', df_final['Consumption Type'])\n",
    "\n",
    "# adjust Payment Terms days \n",
    "df_final['PDD influence on WC consumption'] = np.where(\n",
    "    (df_final['Strategy'] == 523787) & \\\n",
    "    (df_final['PDD influence on WC consumption'].isnull() == True) & \\\n",
    "    (df_final['Consumption Type'] != 'Margin Call'),\n",
    "30, df_final['PDD influence on WC consumption'])\n",
    "\n",
    "# adjust Counterparty (+)\n",
    "df_final['Counterparty (+)'] = np.where(\n",
    "    (df_final['Strategy'] == 523787) & \\\n",
    "    (df_final['Counterparty (+)'].isnull() == True) & \\\n",
    "    (df_final['Consumption Type'] != 'Margin Call'),\n",
    "str(df_final.set_index('Strategy').loc[523787]['Counterparty (+)'].unique()[0]),\n",
    "    df_final['Counterparty (+)'])\n",
    "\n",
    "# adjust Counterparty (-)\n",
    "df_final['Counterparty (-)'] = np.where(\n",
    "    (df_final['Strategy'] == 523787) & \\\n",
    "    (df_final['Counterparty (-)'].isnull() == True) & \\\n",
    "    (df_final['Consumption Type'] != 'Margin Call'),\n",
    "str(df_final.set_index('Strategy').loc[523787]['Counterparty (-)'].unique()[0]),\n",
    "    df_final['Counterparty (-)'])"
   ]
  },
  {
   "cell_type": "code",
   "execution_count": 61,
   "metadata": {
    "collapsed": true
   },
   "outputs": [],
   "source": [
    "# str. 522071 to Payment Terms\n",
    "df_final['Consumption Type'] = np.where(df_final['Strategy'] == 522071 & \\\n",
    "                                        (df_final['Consumption Type'] != 'Margin Call'),\n",
    "                                        'Payment Terms', df_final['Consumption Type'])\n",
    "\n",
    "# adjust Payment Terms days \n",
    "df_final['PDD influence on WC consumption'] = np.where(\n",
    "    (df_final['Strategy'] == 522071) & \\\n",
    "    (df_final['PDD influence on WC consumption'].isnull() == True) & \\\n",
    "    (df_final['Consumption Type'] != 'Margin Call'),\n",
    "30, df_final['PDD influence on WC consumption'])\n",
    "\n",
    "# adjust Counterparty (+)\n",
    "df_final['Counterparty (+)'] = np.where(\n",
    "    (df_final['Strategy'] == 522071) & \\\n",
    "    (df_final['Counterparty (+)'].isnull() == True) & \\\n",
    "    (df_final['Consumption Type'] != 'Margin Call'),\n",
    "str(df_final.set_index('Strategy').loc[522071]['Counterparty (+)'].unique()[0]),\n",
    "    df_final['Counterparty (+)'])\n",
    "\n",
    "# adjust Counterparty (-)\n",
    "df_final['Counterparty (-)'] = np.where(\n",
    "    (df_final['Strategy'] == 522071) & \\\n",
    "    (df_final['Counterparty (-)'].isnull() == True) & \\\n",
    "    (df_final['Consumption Type'] != 'Margin Call'),\n",
    "str(df_final.set_index('Strategy').loc[522071]['Counterparty (-)'].unique()[0]),\n",
    "    df_final['Counterparty (-)'])"
   ]
  },
  {
   "cell_type": "code",
   "execution_count": 62,
   "metadata": {
    "collapsed": true
   },
   "outputs": [],
   "source": [
    "# str. 522678 to Payment Terms\n",
    "df_final['Consumption Type'] = np.where(df_final['Strategy'] == 522678 & \\\n",
    "                                        (df_final['Consumption Type'] != 'Margin Call'),\n",
    "                                        'Payment Terms', df_final['Consumption Type'])\n",
    "\n",
    "# adjust Payment Terms days \n",
    "df_final['PDD influence on WC consumption'] = np.where(\n",
    "    (df_final['Strategy'] == 522678) & \\\n",
    "    (df_final['PDD influence on WC consumption'].isnull() == True) & \\\n",
    "    (df_final['Consumption Type'] != 'Margin Call'),\n",
    "30, df_final['PDD influence on WC consumption'])\n",
    "\n",
    "# adjust Counterparty (+)\n",
    "df_final['Counterparty (+)'] = np.where(\n",
    "    (df_final['Strategy'] == 522678) & \\\n",
    "    (df_final['Counterparty (+)'].isnull() == True) & \\\n",
    "    (df_final['Consumption Type'] != 'Margin Call'),\n",
    "str(df_final.set_index('Strategy').loc[522678]['Counterparty (+)'].unique()[0]),\n",
    "    df_final['Counterparty (+)'])\n",
    "\n",
    "# adjust Counterparty (-)\n",
    "df_final['Counterparty (-)'] = np.where(\n",
    "    (df_final['Strategy'] == 522678) & \\\n",
    "    (df_final['Counterparty (-)'].isnull() == True) & \\\n",
    "    (df_final['Consumption Type'] != 'Margin Call'),\n",
    "str(df_final.set_index('Strategy').loc[522678]['Counterparty (-)'].unique()[0]),\n",
    "    df_final['Counterparty (-)'])"
   ]
  },
  {
   "cell_type": "code",
   "execution_count": 63,
   "metadata": {
    "collapsed": true
   },
   "outputs": [],
   "source": [
    "# str. 522686 to Payment Terms\n",
    "df_final['Consumption Type'] = np.where(df_final['Strategy'] == 522686 & \\\n",
    "                                        (df_final['Consumption Type'] != 'Margin Call'),\n",
    "                                        'Payment Terms', df_final['Consumption Type'])\n",
    "\n",
    "# adjust Payment Terms days \n",
    "df_final['PDD influence on WC consumption'] = np.where(\n",
    "    (df_final['Strategy'] == 522686) & \\\n",
    "    (df_final['PDD influence on WC consumption'].isnull() == True) & \\\n",
    "    (df_final['Consumption Type'] != 'Margin Call'),\n",
    "30, df_final['PDD influence on WC consumption'])\n",
    "\n",
    "# adjust Counterparty (+)\n",
    "df_final['Counterparty (+)'] = np.where(\n",
    "    (df_final['Strategy'] == 522686) & \\\n",
    "    (df_final['Counterparty (+)'].isnull() == True) & \\\n",
    "    (df_final['Consumption Type'] != 'Margin Call'),\n",
    "str(df_final.set_index('Strategy').loc[522686]['Counterparty (+)'].unique()[0]),\n",
    "    df_final['Counterparty (+)'])\n",
    "\n",
    "# adjust Counterparty (-)\n",
    "df_final['Counterparty (-)'] = np.where(\n",
    "    (df_final['Strategy'] == 522686) & \\\n",
    "    (df_final['Counterparty (-)'].isnull() == True) & \\\n",
    "    (df_final['Consumption Type'] != 'Margin Call'),\n",
    "str(df_final.set_index('Strategy').loc[522686]['Counterparty (-)'].unique()[0]),\n",
    "    df_final['Counterparty (-)'])"
   ]
  },
  {
   "cell_type": "code",
   "execution_count": 64,
   "metadata": {
    "collapsed": true
   },
   "outputs": [],
   "source": [
    "# company HAM to Payment Terms\n",
    "df_final['Consumption Type'] = np.where(df_final['Company Name'] == 'HAM', 'Payment Terms', df_final['Consumption Type'])\n",
    "\n",
    "# adjust Payment Terms days \n",
    "df_final['PDD influence on WC consumption'] = np.where(\n",
    "    (df_final['Company Name'] == 'HAM') & (df_final['PDD influence on WC consumption'].isnull() == True),\n",
    "30, df_final['PDD influence on WC consumption'])\n",
    "\n",
    "# adjust Counterparty (+)\n",
    "df_final['Counterparty (+)'] = np.where(\n",
    "    (df_final['Company Name'] == 'HAM') & (df_final['Counterparty (+)'].isnull() == True),\n",
    "str(df_final.set_index('Company Name').loc['HAM']['Counterparty (+)'].unique()[0]),\n",
    "    df_final['Counterparty (+)'])\n",
    "\n",
    "# adjust Counterparty (-)\n",
    "df_final['Counterparty (-)'] = np.where(\n",
    "    (df_final['Company Name'] == 'HAM') & (df_final['Counterparty (-)'].isnull() == True),\n",
    "str(df_final.set_index('Company Name').loc['HAM']['Counterparty (-)'].unique()[0]),\n",
    "    df_final['Counterparty (-)'])"
   ]
  },
  {
   "cell_type": "markdown",
   "metadata": {},
   "source": [
    "# Plots after adjustments"
   ]
  },
  {
   "cell_type": "markdown",
   "metadata": {},
   "source": [
    "## Gross Working Capital"
   ]
  },
  {
   "cell_type": "code",
   "execution_count": 51,
   "metadata": {
    "collapsed": true
   },
   "outputs": [],
   "source": [
    "#creating data sets for the plot\n",
    "\n",
    "df_type = df_final.groupby(['Consumption Date', 'Consumption Type'])['WC Amount'].sum().reset_index()\n",
    "\n",
    "#stock in transit for plot\n",
    "df_transit = df_type[(df_type['Consumption Type'] == 'Stock in Transit')]\n",
    "\n",
    "#payment terms for plot\n",
    "df_terms = df_type[(df_type['Consumption Type'] == 'Payment Terms')]\n",
    "\n",
    "#other for plot\n",
    "df_plot_others = df_type[(df_type['Consumption Type'] == 'Other')]\n",
    "\n",
    "#others unassigned for plot\n",
    "df_plot_others_u = df_type[(df_type['Consumption Type'] == 'Other Unassigned')]\n"
   ]
  },
  {
   "cell_type": "code",
   "execution_count": 52,
   "metadata": {
    "collapsed": false
   },
   "outputs": [
    {
     "data": {
      "image/png": "[encoded data removed]",
      "text/plain": [
       "<matplotlib.figure.Figure at 0x97ab400>"
      ]
     },
     "metadata": {},
     "output_type": "display_data"
    }
   ],
   "source": [
    "# group by strategies the total amount\n",
    "daily_wc = df_final.groupby('Consumption Date')['WC Amount'].sum().reset_index()\n",
    "\n",
    "# our GWC amount for the date\n",
    "radar_date_wc = daily_wc.set_index('Consumption Date').loc[radar_date]['WC Amount']\n",
    "\n",
    "# Create the figure and the axes\n",
    "fig, ax = plt.subplots()\n",
    "\n",
    "# Plot the data\n",
    "daily_wc.plot(kind='line',y='WC Amount', x='Consumption Date', ax=ax, figsize=(12, 6), color= 'black', label='All')\n",
    "df_transit.plot(kind='line', y='WC Amount', x='Consumption Date',ax=ax, figsize=(12,6), color='orange', label= 'Stock in Transit')\n",
    "df_terms.plot(kind='line', y='WC Amount', x='Consumption Date',ax=ax, figsize=(12,6), color='blue', label='Payment Terms')\n",
    "df_plot_others.plot(kind='line', y='WC Amount', x='Consumption Date',ax=ax, figsize=(12,6), color='brown', label='Other')\n",
    "df_plot_others_u.plot(kind='line', y='WC Amount', x='Consumption Date',ax=ax, figsize=(12,6), color='pink',\n",
    "                      label='Other Unassigned')\n",
    "\n",
    "# Set limits and labels\n",
    "ax.set_xlim(['2017-08-20', end_date])\n",
    "ax.set(title=radar_report, xlabel='Consumption Date', ylabel='$M')\n",
    "\n",
    "# Add a line for radar date\n",
    "ax.axvline(x=radar_date, color='r',\n",
    "           label=radar_date,\n",
    "           linestyle='--',\n",
    "           linewidth=1)\n",
    "\n",
    "ax.annotate(radar_date_wc,\n",
    "            xy=(radar_date, radar_date_wc), xycoords='data',\n",
    "           xytext=(radar_date, radar_date_wc + 100), textcoords='data',\n",
    "           arrowprops=dict(arrowstyle=\"->\",\n",
    "                          connectionstyle=\"arc3\")\n",
    "            )\n",
    "\n",
    "# Hide the legend\n",
    "ax.legend().set_visible(True)\n",
    "\n",
    "# Title the figure\n",
    "fig.suptitle('GROSS WORKING CAPITAL', fontsize=14, fontweight='bold');"
   ]
  },
  {
   "cell_type": "markdown",
   "metadata": {},
   "source": [
    "## Others"
   ]
  },
  {
   "cell_type": "code",
   "execution_count": 53,
   "metadata": {
    "collapsed": false
   },
   "outputs": [
    {
     "data": {
      "image/png": "[encoded data removed]",
      "text/plain": [
       "<matplotlib.figure.Figure at 0x1780dda0>"
      ]
     },
     "metadata": {},
     "output_type": "display_data"
    }
   ],
   "source": [
    "# we are only interested in others so we filter the final df\n",
    "df_final_others = df_final[df_final['Consumption Type'] == 'Other']\n",
    "\n",
    "#group by day\n",
    "daily_wc_others = df_final_others.groupby('Consumption Date')['WC Amount'].sum().reset_index()\n",
    "\n",
    "# value of others in radar date\n",
    "radar_date_wc_other = daily_wc_others.set_index('Consumption Date').loc[radar_date]['WC Amount']\n",
    "\n",
    "# Create the figure and the axes\n",
    "fig, ax = plt.subplots()\n",
    "\n",
    "# Plot the data\n",
    "daily_wc_others.plot(kind='line',y='WC Amount', x='Consumption Date', ax=ax, figsize=(10, 6), color = 'brown')\n",
    "\n",
    "# Set limits and labels\n",
    "ax.set_xlim(['2017-08-20', end_date])\n",
    "ax.set(title=radar_report, xlabel='Consumption Date', ylabel='$M')\n",
    "\n",
    "# Add a line for radar date\n",
    "ax.axvline(x=radar_date, color='r',\n",
    "           label=radar_date,\n",
    "           linestyle='--',\n",
    "           linewidth=1)\n",
    "\n",
    "ax.annotate(radar_date_wc_other,\n",
    "            xy=(radar_date, radar_date_wc_other), xycoords='data',\n",
    "           xytext=(radar_date, radar_date_wc_other - 20), textcoords='data',\n",
    "           arrowprops=dict(arrowstyle=\"->\",\n",
    "                          connectionstyle=\"arc3\")\n",
    "            )\n",
    "\n",
    "# Hide the legend\n",
    "ax.legend().set_visible(False)\n",
    "\n",
    "# Title the figure\n",
    "fig.suptitle('OTHERS GROSS WORKING CAPITAL', fontsize=14, fontweight='bold');"
   ]
  },
  {
   "cell_type": "markdown",
   "metadata": {},
   "source": [
    "# Export 2 - After Adjustments"
   ]
  },
  {
   "cell_type": "code",
   "execution_count": 38,
   "metadata": {
    "collapsed": false
   },
   "outputs": [],
   "source": [
    "# before macros\n",
    "#writer = pd.ExcelWriter('before macros.xlsx')\n",
    "#df.to_excel(writer, 'data')\n",
    "#writer.save()"
   ]
  },
  {
   "cell_type": "code",
   "execution_count": 39,
   "metadata": {
    "collapsed": false
   },
   "outputs": [],
   "source": [
    "# stock in transit\n",
    "#writer = pd.ExcelWriter('stock_in_transit.xlsx')\n",
    "#stock_in_transit.to_excel(writer, 'data')\n",
    "#writer.save()"
   ]
  },
  {
   "cell_type": "code",
   "execution_count": 40,
   "metadata": {
    "collapsed": false
   },
   "outputs": [],
   "source": [
    "# payment terms\n",
    "#writer = pd.ExcelWriter('payment_terms.xlsx')\n",
    "#payment_terms.to_excel(writer, 'data')\n",
    "#writer.save()"
   ]
  },
  {
   "cell_type": "code",
   "execution_count": 41,
   "metadata": {
    "collapsed": false
   },
   "outputs": [],
   "source": [
    "# tableau data\n",
    "#writer = pd.ExcelWriter('tableau data.xlsx')\n",
    "#df_output.to_excel(writer, 'Tableau')\n",
    "#writer.save()"
   ]
  },
  {
   "cell_type": "code",
   "execution_count": 42,
   "metadata": {
    "collapsed": false
   },
   "outputs": [],
   "source": [
    "# others\n",
    "#writer = pd.ExcelWriter('others.xlsx')\n",
    "#df_others.to_excel(writer, 'data')\n",
    "#writer.save()"
   ]
  },
  {
   "cell_type": "code",
   "execution_count": 171,
   "metadata": {
    "collapsed": false
   },
   "outputs": [],
   "source": [
    "# others with description\n",
    "#writer = pd.ExcelWriter('others desc.xlsx')\n",
    "#df_others4.to_excel(writer, 'data')\n",
    "#writer.save()"
   ]
  },
  {
   "cell_type": "code",
   "execution_count": 54,
   "metadata": {
    "collapsed": false
   },
   "outputs": [],
   "source": [
    "# final output\n",
    "writer = pd.ExcelWriter('final output.xlsx')\n",
    "df_final.to_excel(writer, 'data')\n",
    "writer.save()"
   ]
  },
  {
   "cell_type": "code",
   "execution_count": 133,
   "metadata": {
    "collapsed": false
   },
   "outputs": [],
   "source": [
    "# test\n",
    "#writer = pd.ExcelWriter('final output.xlsx')\n",
    "#df_test.to_excel(writer, 'data')\n",
    "#writer.save()"
   ]
  },
  {
   "cell_type": "markdown",
   "metadata": {
    "collapsed": true
   },
   "source": [
    "# Discounting Middle Distillates"
   ]
  },
  {
   "cell_type": "code",
   "execution_count": 129,
   "metadata": {
    "collapsed": true
   },
   "outputs": [],
   "source": [
    "# extract gross working capital and multiply by -1\n",
    "act_gross = pd.read_excel('1ALLBOOKWCActuals - ETRM_GROSS.xlsm', sheetname='MD', header=None,\n",
    "                          names = [\"Company Code\", \"Consumption Date\", \"Strategy\", \"WC Amount\"])\n",
    "\n",
    "#selecting cols\n",
    "act_gross = act_gross[['Consumption Date', 'Strategy', 'WC Amount']]\n",
    "act_gross['WC Amount'] = act_gross['WC Amount']/1000000\n",
    "act_gross['WC Amount'] = act_gross['WC Amount']*-1"
   ]
  },
  {
   "cell_type": "code",
   "execution_count": 130,
   "metadata": {
    "collapsed": true
   },
   "outputs": [],
   "source": [
    "# extract net working capital\n",
    "act_net = pd.read_excel('1ALLBOOKWCActuals - ETRM_NET.xlsm', sheetname='MD', header=None,\n",
    "                          names = [\"Company Code\", \"Consumption Date\", \"Strategy\", \"WC Amount\"])\n",
    "\n",
    "#selecting cols\n",
    "act_net = act_net[['Consumption Date', 'Strategy', 'WC Amount']]\n",
    "act_net['WC Amount'] = act_net['WC Amount']/1000000"
   ]
  },
  {
   "cell_type": "code",
   "execution_count": 308,
   "metadata": {
    "collapsed": false
   },
   "outputs": [
    {
     "data": {
      "text/plain": [
       "(1229475, 3)"
      ]
     },
     "execution_count": 308,
     "metadata": {},
     "output_type": "execute_result"
    }
   ],
   "source": [
    "# joining gross and net\n",
    "\n",
    "df_discounting = pd.concat([act_gross, act_net])\n",
    "df_discounting.shape"
   ]
  },
  {
   "cell_type": "code",
   "execution_count": 309,
   "metadata": {
    "collapsed": false
   },
   "outputs": [
    {
     "data": {
      "text/plain": [
       "(18756, 3)"
      ]
     },
     "execution_count": 309,
     "metadata": {},
     "output_type": "execute_result"
    }
   ],
   "source": [
    "# groupby and exclude the small amounts\n",
    "\n",
    "df_discounting = df_discounting.groupby(['Consumption Date', 'Strategy']).sum().reset_index()\n",
    "df_discounting = df_discounting[(df_discounting['WC Amount'] > 0.1) | (df_discounting['WC Amount'] < -0.1) ]\n",
    "df_discounting = df_discounting.reset_index(drop=True)\n",
    "df_discounting.shape"
   ]
  },
  {
   "cell_type": "code",
   "execution_count": 310,
   "metadata": {
    "collapsed": false
   },
   "outputs": [],
   "source": [
    "# only the radar date and defining days_count\n",
    "\n",
    "df_discounting_radar_date = df_discounting[(df_discounting['Consumption Date'] == radar_date)]\n",
    "df_discounting_radar_date = df_discounting_radar_date.reset_index(drop=True)\n",
    "disc_days_count = df_discounting_radar_date.shape[0]"
   ]
  },
  {
   "cell_type": "code",
   "execution_count": 311,
   "metadata": {
    "collapsed": false
   },
   "outputs": [],
   "source": [
    "# replicating the data until the last day of radar report\n",
    "\n",
    "df_discounting_replication = pd.concat([df_discounting_radar_date]*add_days)\n",
    "df_discounting_replication = df_discounting_replication.reset_index(drop=True)"
   ]
  },
  {
   "cell_type": "code",
   "execution_count": 312,
   "metadata": {
    "collapsed": true
   },
   "outputs": [],
   "source": [
    "# changing the dates: from radar date + 1 day until last day of next month\n",
    "\n",
    "for x in xrange(0,add_days):\n",
    "    df_discounting_replication.iloc[x*disc_days_count:disc_days_count*(x+1)]['Consumption Date'] = \\\n",
    "    df_discounting_replication.iloc[x*disc_days_count:disc_days_count*(x+1)]['Consumption Date'] + pd.to_timedelta(x+1,'D')"
   ]
  },
  {
   "cell_type": "code",
   "execution_count": 313,
   "metadata": {
    "collapsed": true
   },
   "outputs": [],
   "source": [
    "df_discounting = pd.concat([df_discounting, df_discounting_replication])"
   ]
  },
  {
   "cell_type": "code",
   "execution_count": 314,
   "metadata": {
    "collapsed": true
   },
   "outputs": [],
   "source": [
    "df_discounting['Consumption Type'] = 'Discounting'\n",
    "df_discounting = df_discounting.reset_index(drop=True)"
   ]
  },
  {
   "cell_type": "code",
   "execution_count": 315,
   "metadata": {
    "collapsed": false
   },
   "outputs": [],
   "source": [
    "# this gives all strategies available in the analytical report\n",
    "output_strategy = df_output[['Strategy', 'Strategy name', 'Global Book name', 'Line of Business','Book Name', 'Portfolio name' ]]\n",
    "output_strategy = output_strategy.drop_duplicates()\n",
    "output_strategy = output_strategy.reset_index(drop=True)"
   ]
  },
  {
   "cell_type": "code",
   "execution_count": 316,
   "metadata": {
    "collapsed": false
   },
   "outputs": [],
   "source": [
    "# this gives all strategies from ETRM (file needs to be updated before running the script)\n",
    "all_strategies = pd.read_excel('all_strategy.xlsx')\n",
    "all_strategies = all_strategies[['Strategy', 'Strategy name','Global Book name', 'Line of Business','Book Name', 'Portfolio name' ]]\n",
    "all_strategies['Portfolio name update'] = all_strategies['Line of Business'].str[:3] + ' ' + all_strategies['Portfolio name']\n",
    "all_strategies['Portfolio name'] = all_strategies['Portfolio name update']\n",
    "all_strategies = all_strategies[['Strategy', 'Strategy name','Global Book name', 'Line of Business','Book Name', 'Portfolio name' ]]"
   ]
  },
  {
   "cell_type": "code",
   "execution_count": 317,
   "metadata": {
    "collapsed": false
   },
   "outputs": [],
   "source": [
    "df_discounting = df_discounting.merge(output_strategy, on='Strategy', how='left')"
   ]
  },
  {
   "cell_type": "code",
   "execution_count": 318,
   "metadata": {
    "collapsed": false
   },
   "outputs": [],
   "source": [
    "df_discounting2 = all_strategies[['Strategy', 'Strategy name']]"
   ]
  },
  {
   "cell_type": "code",
   "execution_count": 319,
   "metadata": {
    "collapsed": false
   },
   "outputs": [],
   "source": [
    "df_discounting3 = df_discounting.merge(all_strategies, on='Strategy',how='left')"
   ]
  },
  {
   "cell_type": "code",
   "execution_count": 320,
   "metadata": {
    "collapsed": false
   },
   "outputs": [],
   "source": [
    "df_discounting3['Strategy name'] = np.where(df_discounting3['Strategy name_x'].isnull() == True,\n",
    "                                          df_discounting3['Strategy name_y'], df_discounting3['Strategy name_x'])\n",
    "\n",
    "df_discounting3['Global Book name'] = np.where(df_discounting3['Global Book name_x'].isnull() == True,\n",
    "                                          df_discounting3['Global Book name_y'], df_discounting3['Global Book name_x'])\n",
    "\n",
    "df_discounting3['Line of Business'] = np.where(df_discounting3['Line of Business_x'].isnull() == True,\n",
    "                                          df_discounting3['Line of Business_y'], df_discounting3['Line of Business_x'])\n",
    "\n",
    "df_discounting3['Book Name'] = np.where(df_discounting3['Book Name_x'].isnull() == True,\n",
    "                                          df_discounting3['Book Name_y'], df_discounting3['Book Name_x'])\n",
    "\n",
    "df_discounting3['Portfolio name'] = np.where(df_discounting3['Portfolio name_x'].isnull() == True,\n",
    "                                          df_discounting3['Portfolio name_y'], df_discounting3['Portfolio name_x'])"
   ]
  },
  {
   "cell_type": "code",
   "execution_count": 321,
   "metadata": {
    "collapsed": true
   },
   "outputs": [],
   "source": [
    "# convert strategy to string\n",
    "df_discounting3['Strategy'] = df_discounting3['Strategy'].astype(str)"
   ]
  },
  {
   "cell_type": "code",
   "execution_count": 322,
   "metadata": {
    "collapsed": false
   },
   "outputs": [],
   "source": [
    "# adding company name and updating portfolio name\n",
    "df_discounting3 = df_discounting3.fillna('Unknown')\n",
    "df_discounting3['Company Name'] = np.where(df_discounting3['Line of Business'] == 'Unknown', df_discounting3['Strategy'].str[:3], \n",
    "                                    df_discounting3['Line of Business'].str[:3])\n",
    "df_discounting3['Portfolio name'] = np.where(df_discounting3['Portfolio name'] == 'Unknown', df_discounting3['Strategy'], df_discounting3['Portfolio name'])"
   ]
  },
  {
   "cell_type": "code",
   "execution_count": 323,
   "metadata": {
    "collapsed": false
   },
   "outputs": [],
   "source": [
    "#selecting the cols\n",
    "\n",
    "df_discounting_final = df_discounting3[['Consumption Date', 'Strategy','WC Amount', 'Consumption Type', 'Strategy name','Company Name',\n",
    "                    'Global Book name','Line of Business','Book Name', 'Portfolio name']]"
   ]
  },
  {
   "cell_type": "code",
   "execution_count": 324,
   "metadata": {
    "collapsed": true
   },
   "outputs": [],
   "source": [
    "# align columns to final output\n",
    "\n",
    "result_discounting = pd.DataFrame(columns=cols)\n",
    "result_discounting['Consumption Date'] = df_discounting_final['Consumption Date']\n",
    "result_discounting['Consumption Type'] = df_discounting_final['Consumption Type']\n",
    "result_discounting['WC Amount'] = df_discounting_final['WC Amount']\n",
    "result_discounting['Strategy'] = df_discounting_final['Strategy']\n",
    "result_discounting['Strategy name'] = df_discounting_final['Strategy name']\n",
    "result_discounting['Company Name'] = df_discounting_final['Company Name']\n",
    "result_discounting['Global Book name'] = df_discounting_final['Global Book name']\n",
    "result_discounting['Line of Business'] = df_discounting_final['Line of Business']\n",
    "result_discounting['Book Name'] = df_discounting_final['Book Name']\n",
    "result_discounting['Portfolio name'] = df_discounting_final['Portfolio name']"
   ]
  },
  {
   "cell_type": "markdown",
   "metadata": {},
   "source": [
    "# export discounting"
   ]
  },
  {
   "cell_type": "code",
   "execution_count": 325,
   "metadata": {
    "collapsed": false
   },
   "outputs": [],
   "source": [
    "# discounting\n",
    "writer = pd.ExcelWriter('discounting.xlsx')\n",
    "result_discounting.to_excel(writer, 'data')\n",
    "writer.save()"
   ]
  },
  {
   "cell_type": "code",
   "execution_count": null,
   "metadata": {
    "collapsed": true
   },
   "outputs": [],
   "source": []
  }
 ],
 "metadata": {
  "kernelspec": {
   "display_name": "Python 2",
   "language": "python",
   "name": "python2"
  },
  "language_info": {
   "codemirror_mode": {
    "name": "ipython",
    "version": 2
   },
   "file_extension": ".py",
   "mimetype": "text/x-python",
   "name": "python",
   "nbconvert_exporter": "python",
   "pygments_lexer": "ipython2",
   "version": "2.7.11"
  }
 },
 "nbformat": 4,
 "nbformat_minor": 0
}
