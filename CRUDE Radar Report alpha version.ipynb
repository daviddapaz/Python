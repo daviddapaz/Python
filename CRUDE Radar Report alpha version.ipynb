{
 "cells": [
  {
   "cell_type": "markdown",
   "metadata": {
    "collapsed": true
   },
   "source": [
    "# Before running the program ensure that:\n",
    "#### 1. Download the latest Analytical Report\n",
    "#### 2. Adjust dates in Analytical Report\n",
    "#### 3. Download Actuals Report\n",
    "#### 4. Run Actuals for the desired book\n",
    "#### 5. Define Dates"
   ]
  },
  {
   "cell_type": "code",
   "execution_count": 1,
   "metadata": {
    "collapsed": true
   },
   "outputs": [],
   "source": [
    "import numpy as np\n",
    "import pandas as pd\n",
    "import datetime\n",
    "\n",
    "import warnings\n",
    "warnings.filterwarnings(\"ignore\")"
   ]
  },
  {
   "cell_type": "markdown",
   "metadata": {},
   "source": [
    "# Define Dates"
   ]
  },
  {
   "cell_type": "code",
   "execution_count": 2,
   "metadata": {
    "collapsed": false
   },
   "outputs": [
    {
     "data": {
      "text/plain": [
       "49"
      ]
     },
     "execution_count": 2,
     "metadata": {},
     "output_type": "execute_result"
    }
   ],
   "source": [
    "# define radar date\n",
    "\n",
    "radar_date = '2017-09-12'\n",
    "end_date = '2017-10-31'\n",
    "#add_days = pd.to_datetime(end_date) - pd.to_datetime(radar_date)\n",
    "add_days = 49\n",
    "add_days"
   ]
  },
  {
   "cell_type": "markdown",
   "metadata": {},
   "source": [
    "# Import Analytical Report"
   ]
  },
  {
   "cell_type": "code",
   "execution_count": 3,
   "metadata": {
    "collapsed": true
   },
   "outputs": [],
   "source": [
    "df = pd.read_excel('0FLATANALYTICALexport.XLSX')"
   ]
  },
  {
   "cell_type": "markdown",
   "metadata": {},
   "source": [
    "# Counterparties and dates"
   ]
  },
  {
   "cell_type": "code",
   "execution_count": 4,
   "metadata": {
    "collapsed": true
   },
   "outputs": [],
   "source": [
    "# correction of counterparty (+)\n",
    "df['Counterparty (+)'] = np.where((df['Mirror portfolio name (+)'].isnull() == True ),\n",
    "                                  df['Counterparty (+)'],\n",
    "                                  np.where(df['Mirror Line of Business (+)'] == df['Line of Business'],\n",
    "                                          df['Mirror Line of Business (+)'].str[:3] + ' ' + df['Mirror portfolio name (+)'],\n",
    "                                          df['Mirror Line of Business (+)'] + ' ' + df['Mirror portfolio name (+)']))"
   ]
  },
  {
   "cell_type": "code",
   "execution_count": 5,
   "metadata": {
    "collapsed": true
   },
   "outputs": [],
   "source": [
    "# correction of counterparty (-)\n",
    "df['Counterparty (-)'] = np.where((df['Mirror portfolio name (-)'].isnull() == True ),\n",
    "                                  df['Counterparty (-)'],\n",
    "                                 np.where(df['Mirror Line of Business (-)'] == df['Line of Business'],\n",
    "                                         df['Mirror Line of Business (-)'].str[:3] + ' '+ df['Mirror portfolio name (-)'],\n",
    "                                          df['Mirror Line of Business (-)'] + ' ' + df['Mirror portfolio name (-)']))"
   ]
  },
  {
   "cell_type": "code",
   "execution_count": 6,
   "metadata": {
    "collapsed": true
   },
   "outputs": [],
   "source": [
    "#correction of Due date (-)\n",
    "df['Due date (-)'] = df['Due date (-)'].astype('datetime64[ns]')\n",
    "df['Due date (-)'][df['Due date (-)'] == '1816-03-29 05:56:08.066277376' ] = 0\n",
    "df['test'] = np.where(df['Due date (-)'] == '1970-01-01', 0, 1)\n",
    "\n",
    "# correction of Title transfer date (-)\n",
    "df['Title transfer date (-)'] = df['Title transfer date (-)'].astype(object).where(df['Title transfer date (-)'].notnull(), 0)\n",
    "df['Title transfer date (-)'] = np.where(df['Title transfer date (-)'] == 0, pd.to_datetime('today') + np.timedelta64(30,'D') , df['Title transfer date (-)'])\n",
    "df['Title transfer date (-)'] = df['Title transfer date (-)'].astype('datetime64[ns]')\n",
    "\n",
    "#continuation of correction of Due date (-)\n",
    "df['Due date (-) corrected'] = np.where(df['test'] == 1, df['Due date (-)'], df['Due date (+)'] - df['Title transfer date (+)'] + df['Title transfer date (-)'])\n",
    "\n",
    "df['Due date (-)'] = df['Due date (-) corrected']\n",
    "\n",
    "# converting the type of Due date (-)\n",
    "df['Due date (-)'] = df['Due date (-)'].astype('datetime64[ns]')\n",
    "df['Due date (-)'] = df['Due date (-)'].dt.date\n",
    "\n",
    "df['Consumption Date'] = df['Due date (+)']\n",
    "df['Due date (+)'] = df['Due date (+)'].dt.date\n",
    "df['Title transfer date (-)'] = df['Title transfer date (-)'].dt.date\n",
    "df['Title transfer date (+)'] = df['Title transfer date (+)'].dt.date\n",
    "\n",
    "\n",
    "#filling NaN\n",
    "df['Incoterms 1 (-)'].fillna(df['Incoterms 1 (+)'], inplace=True)\n",
    "df['Incoterms 2 country (-)'].fillna(df['Incoterms 2 country (+).1'], inplace=True)\n",
    "df['Incoterms 2 country (-).1'].fillna(df['Incoterms 2 country (+)'], inplace=True)\n"
   ]
  },
  {
   "cell_type": "markdown",
   "metadata": {},
   "source": [
    "# Days operations"
   ]
  },
  {
   "cell_type": "code",
   "execution_count": 7,
   "metadata": {
    "collapsed": true
   },
   "outputs": [],
   "source": [
    "# calculating the columns\n",
    "\n",
    "df['Consumption Type'] = 'Filled by Macros'\n",
    "df['Total WC Consumption period'] = df['Due date (-)'] - df['Due date (+)']\n",
    "df['TTD difference'] = df['Title transfer date (-)'] - df['Title transfer date (+)']\n",
    "df['Sale Payment Terms'] = df['Due date (-)'] - df['Title transfer date (-)']\n",
    "df['Buy Payment Terms'] = df['Due date (+)'] - df['Title transfer date (+)']\n",
    "df['PDD difference'] = df['Sale Payment Terms'] - df['Buy Payment Terms']\n",
    "df['Consumption reason'] = 'OTHER'\n",
    "df['WC Amount'] = df['WC consumption amount'] / 1000000\n",
    "df['Current amount in USD (+)'] = df['Quantity BBL (ratio) (+)'] * df['Current price, USD/BBL (+)']\n",
    "df['Current amount in USD (-)'] = df['Quantity BBL (ratio) (-)'] * df['Current price, USD/BBL (-)']\n",
    "\n",
    "# company name\n",
    "df['Company Name'] = df['Line of Business'].str[:3]\n",
    "\n",
    "# portfolio name\n",
    "df['Portfolio name change'] = df['Company Name'] + ' ' + df['Portfolio name']\n",
    "df['Portfolio name'] = df['Portfolio name change']\n",
    "\n",
    "\n",
    "# converting columns to the right format\n",
    "#converting into days\n",
    "df['Total WC Consumption period'] = df['Total WC Consumption period'].dt.days\n",
    "df['TTD difference'] = df['TTD difference'].dt.days\n",
    "df['Sale Payment Terms'] = df['Sale Payment Terms'].dt.days\n",
    "df['Buy Payment Terms'] = df['Buy Payment Terms'].dt.days\n",
    "df['PDD difference'] = df['PDD difference'].dt.days"
   ]
  },
  {
   "cell_type": "markdown",
   "metadata": {},
   "source": [
    "# WC Amount"
   ]
  },
  {
   "cell_type": "code",
   "execution_count": 8,
   "metadata": {
    "collapsed": true
   },
   "outputs": [],
   "source": [
    "# correcting the WC Amount\n",
    "df_strategy = pd.DataFrame()\n",
    "df_strategy = df[['Strategy', 'WC Amount','Strategy start date']].copy()\n",
    "\n",
    "#import the strategies\n",
    "df_strategy_exclude = pd.read_excel('Strategies.xlsx')\n",
    "\n",
    "#conditions and sum\n",
    "df_strategy = df_strategy.merge(df_strategy_exclude, on = 'Strategy', how = 'left')\n",
    "df_strategy['New'].fillna(0, inplace=True)\n",
    "df_strategy['S2'] = np.where(df_strategy['Strategy'] > 517000, 1,0)\n",
    "df_strategy['ssd'] = np.where(df_strategy['Strategy start date'] > '2015-12-01', 1,0)\n",
    "df_strategy['sum_s'] = df_strategy['New'] + df_strategy['ssd'] + df_strategy['S2']\n",
    "df_strategy['WC Amount corrected'] = np.where(df_strategy['sum_s'] > 0,df_strategy['WC Amount'], 0)\n",
    "\n",
    "# replacing WC amount\n",
    "df['WC Amount'] = df_strategy['WC Amount corrected']\n",
    "\n",
    "# rounding WC amount and filter\n",
    "df['WC Amount'] = df['WC Amount'].round(4)\n",
    "df = df[(df['WC Amount'] <= -0.50) | (df['WC Amount'] >= 0.50) ]\n",
    "\n",
    "# reset index\n",
    "df = df.reset_index(drop=True)"
   ]
  },
  {
   "cell_type": "markdown",
   "metadata": {},
   "source": [
    "# WC Days: Total, TTD and PDD"
   ]
  },
  {
   "cell_type": "code",
   "execution_count": 9,
   "metadata": {
    "collapsed": true
   },
   "outputs": [],
   "source": [
    "def f(row):\n",
    "    if (row['Total WC Consumption period'] >= row['TTD difference'] and row['Total WC Consumption period'] > 0 and row['TTD difference'] > 0) \\\n",
    "    or (row['Total WC Consumption period'] <= row['TTD difference'] and row['Total WC Consumption period'] < 0 and row['TTD difference'] < 0):\n",
    "        return row['TTD difference']\n",
    "    elif (row['Total WC Consumption period'] > 0 and row['TTD difference'] > 0) \\\n",
    "    or (row['Total WC Consumption period'] < 0 and row['TTD difference'] < 0):\n",
    "        return row['Total WC Consumption period']\n",
    "    else:\n",
    "        return 0"
   ]
  },
  {
   "cell_type": "code",
   "execution_count": 10,
   "metadata": {
    "collapsed": true
   },
   "outputs": [],
   "source": [
    "df['TTD influence on WC consumption'] = df.apply(f, axis=1)\n",
    "df['PDD influence on WC consumption'] = df['Total WC Consumption period'] - df['TTD influence on WC consumption']"
   ]
  },
  {
   "cell_type": "markdown",
   "metadata": {},
   "source": [
    "# Select columns"
   ]
  },
  {
   "cell_type": "code",
   "execution_count": 11,
   "metadata": {
    "collapsed": true
   },
   "outputs": [],
   "source": [
    "# rearrange columns\n",
    "cols = df.columns.tolist()"
   ]
  },
  {
   "cell_type": "code",
   "execution_count": 12,
   "metadata": {
    "collapsed": true
   },
   "outputs": [],
   "source": [
    "cols = ['Consumption Date',\n",
    "       'Consumption Type',\n",
    "       'Total WC Consumption period',\n",
    "        'TTD influence on WC consumption',\n",
    "        'PDD influence on WC consumption',\n",
    "        'TTD difference',\n",
    "        'PDD difference',\n",
    "        'Sale Payment Terms',\n",
    "        'Buy Payment Terms',\n",
    "        'Consumption reason',\n",
    "        'WC Amount',\n",
    "        'Buy/Sell (-)',\n",
    "        'Buy/Sell (+)',\n",
    "        'Due date (-)',\n",
    "        'Due date (+)',\n",
    "        'Title transfer date (-)',\n",
    "        'Title transfer date (+)',\n",
    "        'Strategy',\n",
    "        'Strategy name',\n",
    "        'Company Name',\n",
    "        'Global Book name',\n",
    "        'Line of Business',\n",
    "        'Book Name',\n",
    "        'Portfolio name',\n",
    "        'Quantity',\n",
    "        'Current amount in USD (+)',\n",
    "        'Quantity BBL (ratio) (+)',\n",
    "        'Current price, USD/BBL (+)',\n",
    "        'Counterparty (+)',\n",
    "        'Title transfer (+)',\n",
    "        'Incoterms 1 (+)',\n",
    "        'Incoterms 2 country (+)',\n",
    "        'Incoterms 2 country (+).1',\n",
    "        'Object type (+)',\n",
    "        'Delivery ID (+)',\n",
    "        'Internal type (+)',\n",
    "        'Mirror Delivery ID (+)',\n",
    "        'Current amount in USD (-)',\n",
    "        'Quantity BBL (ratio) (-)',\n",
    "        'Current price, USD/BBL (-)',\n",
    "        'Counterparty (-)',\n",
    "        'Title transfer (-)',\n",
    "        'Incoterms 1 (-)',\n",
    "        'Incoterms 2 country (-)',\n",
    "        'Incoterms 2 country (-).1',\n",
    "        'Object type (-)',\n",
    "        'Delivery ID (-)',\n",
    "        'Internal type (-)',\n",
    "        'Mirror Delivery ID (-)',\n",
    "        'Strategy start date',\n",
    "        'Strategy end date',\n",
    "        'Voyage ID (+)',\n",
    "        'Transport name (+)',\n",
    "        'Grade (+)',\n",
    "        'Voyage ID (-)',\n",
    "        'Transport name (-)',\n",
    "        'Grade (-)']"
   ]
  },
  {
   "cell_type": "code",
   "execution_count": 13,
   "metadata": {
    "collapsed": false
   },
   "outputs": [
    {
     "data": {
      "text/plain": [
       "(5951, 57)"
      ]
     },
     "execution_count": 13,
     "metadata": {},
     "output_type": "execute_result"
    }
   ],
   "source": [
    "# ordering the columns\n",
    "df = df[cols]\n",
    "df.shape"
   ]
  },
  {
   "cell_type": "markdown",
   "metadata": {},
   "source": [
    "# Filter data"
   ]
  },
  {
   "cell_type": "code",
   "execution_count": 14,
   "metadata": {
    "collapsed": false
   },
   "outputs": [
    {
     "data": {
      "text/plain": [
       "(5943, 57)"
      ]
     },
     "execution_count": 14,
     "metadata": {},
     "output_type": "execute_result"
    }
   ],
   "source": [
    "# selecting rows for which dates are above -365 or below 365\n",
    "df = df[(df['Total WC Consumption period'] > -365) & (df['Total WC Consumption period'] < 365) ]\n",
    "\n",
    "# reset index\n",
    "df = df.reset_index(drop=True)\n",
    "df.shape"
   ]
  },
  {
   "cell_type": "markdown",
   "metadata": {},
   "source": [
    "# Stock in Transit and Payment Terms"
   ]
  },
  {
   "cell_type": "code",
   "execution_count": 15,
   "metadata": {
    "collapsed": false
   },
   "outputs": [
    {
     "data": {
      "text/plain": [
       "(30734, 57)"
      ]
     },
     "execution_count": 15,
     "metadata": {},
     "output_type": "execute_result"
    }
   ],
   "source": [
    "# stock in transit\n",
    "stock_in_transit = df.loc[df.index.repeat(abs(df['TTD influence on WC consumption']))]\n",
    "stock_in_transit['Consumption Date'] = stock_in_transit['Consumption Date'] + pd.to_timedelta(abs(stock_in_transit['TTD influence on WC consumption'])-1, 'D')\n",
    "\n",
    "stock_in_transit.loc[:,'Consumption Date'] -= pd.to_timedelta(stock_in_transit.groupby(level=0).cumcount(),'D')\n",
    "stock_in_transit = stock_in_transit.reset_index(drop=True)\n",
    "stock_in_transit['Consumption Type'] = 'Stock in Transit'\n",
    "stock_in_transit = stock_in_transit[(stock_in_transit['Consumption Date'] > '2016-12-31')]\n",
    "\n",
    "# correct the negatives\n",
    "stock_in_transit['Consumption Date'] = np.where(stock_in_transit['TTD influence on WC consumption'] < 0,\n",
    "                                                stock_in_transit['Consumption Date'] +\n",
    "                                                pd.to_timedelta(stock_in_transit['TTD influence on WC consumption'], 'D'),\n",
    "                                                stock_in_transit['Consumption Date'])\n",
    "\n",
    "#filter date\n",
    "stock_in_transit = stock_in_transit[(stock_in_transit['Consumption Date'] > '2016-12-31')]\n",
    "stock_in_transit = stock_in_transit.reset_index(drop=True)\n",
    "\n",
    "stock_in_transit.shape"
   ]
  },
  {
   "cell_type": "code",
   "execution_count": 16,
   "metadata": {
    "collapsed": false
   },
   "outputs": [
    {
     "data": {
      "text/plain": [
       "(21396, 57)"
      ]
     },
     "execution_count": 16,
     "metadata": {},
     "output_type": "execute_result"
    }
   ],
   "source": [
    "# payment terms\n",
    "payment_terms = df.loc[df.index.repeat(abs(df['PDD influence on WC consumption']))]\n",
    "payment_terms['Consumption Date'] = np.where(payment_terms['PDD influence on WC consumption'] >= 0,\n",
    "                                                payment_terms['Consumption Date'] +\n",
    "                                                pd.to_timedelta(abs(payment_terms['Total WC Consumption period']) -1, 'D'),\n",
    "                                                payment_terms['Consumption Date'] - pd.to_timedelta(1, 'D') +\n",
    "                                            pd.to_timedelta(payment_terms['TTD influence on WC consumption'], 'D'))\n",
    "\n",
    "payment_terms.loc[:,'Consumption Date'] -= pd.to_timedelta(payment_terms.groupby(level=0).cumcount(),'D')\n",
    "payment_terms = payment_terms.reset_index(drop=True)\n",
    "payment_terms['Consumption Type'] = 'Payment Terms'\n",
    "\n",
    "# filter date\n",
    "payment_terms = payment_terms[(payment_terms['Consumption Date'] > '2016-12-31')]\n",
    "payment_terms = payment_terms.reset_index(drop=True)\n",
    "\n",
    "payment_terms.shape"
   ]
  },
  {
   "cell_type": "markdown",
   "metadata": {},
   "source": [
    "# Tableau data"
   ]
  },
  {
   "cell_type": "code",
   "execution_count": 17,
   "metadata": {
    "collapsed": false
   },
   "outputs": [
    {
     "data": {
      "text/plain": [
       "(52130, 57)"
      ]
     },
     "execution_count": 17,
     "metadata": {},
     "output_type": "execute_result"
    }
   ],
   "source": [
    "df_output = pd.concat([stock_in_transit, payment_terms])\n",
    "df_output = df_output.reset_index(drop=True)\n",
    "df_output.shape"
   ]
  },
  {
   "cell_type": "markdown",
   "metadata": {},
   "source": [
    "# Selection for others"
   ]
  },
  {
   "cell_type": "code",
   "execution_count": 18,
   "metadata": {
    "collapsed": false,
    "scrolled": true
   },
   "outputs": [],
   "source": [
    "df_agg = df_output.groupby(['Consumption Date', 'Strategy']).sum().reset_index()\n",
    "df_agg = df_agg[['Consumption Date', 'Strategy', 'WC Amount']]\n",
    "df_agg['WC Amount'] = df_agg['WC Amount']*-1\n",
    "\n",
    "#filter the date\n",
    "df_agg = df_agg[(df_agg['Consumption Date'] <= radar_date)]\n"
   ]
  },
  {
   "cell_type": "markdown",
   "metadata": {},
   "source": [
    "# Import Actuals"
   ]
  },
  {
   "cell_type": "code",
   "execution_count": 19,
   "metadata": {
    "collapsed": true
   },
   "outputs": [],
   "source": [
    "#df_actuals = pd.read_excel('0FLATANALYTICALexportETRM.XLSX')"
   ]
  },
  {
   "cell_type": "code",
   "execution_count": 20,
   "metadata": {
    "collapsed": true
   },
   "outputs": [],
   "source": [
    "# send the columns to list\n",
    "#cols_list =df_actuals.columns.tolist()"
   ]
  },
  {
   "cell_type": "code",
   "execution_count": 21,
   "metadata": {
    "collapsed": true
   },
   "outputs": [],
   "source": [
    "#transposing data\n",
    "#df_test = pd.melt(df_actuals,id_vars = cols_list[:6], value_vars=cols_list[6:])"
   ]
  },
  {
   "cell_type": "code",
   "execution_count": 22,
   "metadata": {
    "collapsed": false
   },
   "outputs": [],
   "source": [
    "crude_act = pd.read_excel('1ALLBOOKWCActuals - ETRM.xlsm', sheetname='CRUDE', header=None,\n",
    "                          names = [\"Company Code\", \"Consumption Date\", \"Strategy\", \"WC Amount\"])\n",
    "\n",
    "#selecting cols\n",
    "crude_act = crude_act[['Consumption Date', 'Strategy', 'WC Amount']]\n",
    "crude_act['WC Amount'] = crude_act['WC Amount']/1000000"
   ]
  },
  {
   "cell_type": "markdown",
   "metadata": {},
   "source": [
    "# Joining Analytical and Actuals --> Other"
   ]
  },
  {
   "cell_type": "code",
   "execution_count": 23,
   "metadata": {
    "collapsed": false
   },
   "outputs": [
    {
     "data": {
      "text/plain": [
       "(426715, 3)"
      ]
     },
     "execution_count": 23,
     "metadata": {},
     "output_type": "execute_result"
    }
   ],
   "source": [
    "# joining the two dataframes\n",
    "\n",
    "df_others = pd.concat([df_agg, crude_act])\n",
    "df_others.shape"
   ]
  },
  {
   "cell_type": "code",
   "execution_count": 24,
   "metadata": {
    "collapsed": false
   },
   "outputs": [
    {
     "data": {
      "text/plain": [
       "(64519, 3)"
      ]
     },
     "execution_count": 24,
     "metadata": {},
     "output_type": "execute_result"
    }
   ],
   "source": [
    "# groupby and exclude the small amounts\n",
    "\n",
    "df_others = df_others.groupby(['Consumption Date', 'Strategy']).sum().reset_index()\n",
    "df_others = df_others[(df_others['WC Amount'] > 0.1) | (df_others['WC Amount'] < -0.1) ]\n",
    "df_others = df_others.reset_index(drop=True)\n",
    "df_others.shape"
   ]
  },
  {
   "cell_type": "code",
   "execution_count": 25,
   "metadata": {
    "collapsed": false
   },
   "outputs": [],
   "source": [
    "# only the radar date and defining days_count\n",
    "\n",
    "df_others_radar_date = df_others[(df_others['Consumption Date'] == radar_date)]\n",
    "df_others_radar_date = df_others_radar_date.reset_index(drop=True)\n",
    "days_count = df_others_radar_date.shape[0]"
   ]
  },
  {
   "cell_type": "code",
   "execution_count": 26,
   "metadata": {
    "collapsed": false
   },
   "outputs": [
    {
     "name": "stdout",
     "output_type": "stream",
     "text": [
      "267\n",
      "2017-09-12\n",
      "49\n",
      "2017-10-31\n"
     ]
    }
   ],
   "source": [
    "print(days_count)\n",
    "print(radar_date)\n",
    "print(add_days)\n",
    "print(end_date)"
   ]
  },
  {
   "cell_type": "code",
   "execution_count": 27,
   "metadata": {
    "collapsed": false
   },
   "outputs": [
    {
     "data": {
      "text/plain": [
       "(13083, 3)"
      ]
     },
     "execution_count": 27,
     "metadata": {},
     "output_type": "execute_result"
    }
   ],
   "source": [
    "# replicating the data until the last day of radar report\n",
    "\n",
    "df_others_replication = pd.concat([df_others_radar_date]*add_days)\n",
    "df_others_replication = df_others_replication.reset_index(drop=True)\n",
    "df_others_replication.shape"
   ]
  },
  {
   "cell_type": "code",
   "execution_count": 28,
   "metadata": {
    "collapsed": false
   },
   "outputs": [],
   "source": [
    "# changing the dates: from radar date + 1 day until last day of next month\n",
    "\n",
    "for x in xrange(0,add_days):\n",
    "    df_others_replication.iloc[x*days_count:days_count*(x+1)]['Consumption Date'] = df_others_replication.iloc[x*days_count:days_count*(x+1)]['Consumption Date'] + pd.to_timedelta(x+1,'D')"
   ]
  },
  {
   "cell_type": "code",
   "execution_count": 29,
   "metadata": {
    "collapsed": false
   },
   "outputs": [
    {
     "data": {
      "text/plain": [
       "1329.1927175100036"
      ]
     },
     "execution_count": 29,
     "metadata": {},
     "output_type": "execute_result"
    }
   ],
   "source": [
    "df_others_replication['WC Amount'].sum()"
   ]
  },
  {
   "cell_type": "code",
   "execution_count": 30,
   "metadata": {
    "collapsed": false
   },
   "outputs": [],
   "source": [
    "df_others = pd.concat([df_others, df_others_replication])"
   ]
  },
  {
   "cell_type": "markdown",
   "metadata": {},
   "source": [
    "# Export"
   ]
  },
  {
   "cell_type": "code",
   "execution_count": 31,
   "metadata": {
    "collapsed": true
   },
   "outputs": [],
   "source": [
    "# before macros\n",
    "#writer = pd.ExcelWriter('before macros.xlsx')\n",
    "#df.to_excel(writer, 'data')\n",
    "#writer.save()"
   ]
  },
  {
   "cell_type": "code",
   "execution_count": 32,
   "metadata": {
    "collapsed": true
   },
   "outputs": [],
   "source": [
    "# stock in transit\n",
    "#writer = pd.ExcelWriter('stock_in_transit.xlsx')\n",
    "#stock_in_transit.to_excel(writer, 'data')\n",
    "#writer.save()"
   ]
  },
  {
   "cell_type": "code",
   "execution_count": 33,
   "metadata": {
    "collapsed": true
   },
   "outputs": [],
   "source": [
    "# payment terms\n",
    "#writer = pd.ExcelWriter('payment_terms.xlsx')\n",
    "#payment_terms.to_excel(writer, 'data')\n",
    "#writer.save()"
   ]
  },
  {
   "cell_type": "code",
   "execution_count": 34,
   "metadata": {
    "collapsed": true
   },
   "outputs": [],
   "source": [
    "# tableau data\n",
    "#writer = pd.ExcelWriter('tableau data.xlsx')\n",
    "#df_output.to_excel(writer, 'Tableau')\n",
    "#writer.save()"
   ]
  },
  {
   "cell_type": "code",
   "execution_count": 35,
   "metadata": {
    "collapsed": true
   },
   "outputs": [],
   "source": [
    "# others\n",
    "#writer = pd.ExcelWriter('others.xlsx')\n",
    "#df_others.to_excel(writer, 'data')\n",
    "#writer.save()"
   ]
  },
  {
   "cell_type": "markdown",
   "metadata": {},
   "source": [
    "# Strategy database"
   ]
  },
  {
   "cell_type": "code",
   "execution_count": 59,
   "metadata": {
    "collapsed": false
   },
   "outputs": [
    {
     "ename": "AttributeError",
     "evalue": "Cannot access callable attribute 'drop_duplicates' of 'DataFrameGroupBy' objects, try using the 'apply' method",
     "output_type": "error",
     "traceback": [
      "\u001b[1;31m---------------------------------------------------------------------------\u001b[0m",
      "\u001b[1;31mAttributeError\u001b[0m                            Traceback (most recent call last)",
      "\u001b[1;32m<ipython-input-59-87850e8107d5>\u001b[0m in \u001b[0;36m<module>\u001b[1;34m()\u001b[0m\n\u001b[0;32m      1\u001b[0m \u001b[0mdf_strategy\u001b[0m \u001b[1;33m=\u001b[0m \u001b[0mdf\u001b[0m\u001b[1;33m[\u001b[0m\u001b[1;33m[\u001b[0m\u001b[1;34m'Strategy'\u001b[0m\u001b[1;33m,\u001b[0m \u001b[1;34m'Strategy name'\u001b[0m\u001b[1;33m,\u001b[0m \u001b[1;34m'Global Book name'\u001b[0m\u001b[1;33m,\u001b[0m \u001b[1;34m'Line of Business'\u001b[0m\u001b[1;33m,\u001b[0m \u001b[1;34m'Book Name'\u001b[0m\u001b[1;33m,\u001b[0m \u001b[1;34m'Portfolio name'\u001b[0m\u001b[1;33m]\u001b[0m\u001b[1;33m]\u001b[0m\u001b[1;33m.\u001b[0m\u001b[0mgroupby\u001b[0m\u001b[1;33m(\u001b[0m\u001b[1;34m'Strategy'\u001b[0m\u001b[1;33m)\u001b[0m\u001b[1;33m\u001b[0m\u001b[0m\n\u001b[1;32m----> 2\u001b[1;33m \u001b[0mdf_strategy\u001b[0m\u001b[1;33m.\u001b[0m\u001b[0mdrop_duplicates\u001b[0m\u001b[1;33m(\u001b[0m\u001b[1;33m)\u001b[0m\u001b[1;33m\u001b[0m\u001b[0m\n\u001b[0m\u001b[0;32m      3\u001b[0m \u001b[1;31m#df_strategy.drop_duplicates()\u001b[0m\u001b[1;33m\u001b[0m\u001b[1;33m\u001b[0m\u001b[0m\n\u001b[0;32m      4\u001b[0m \u001b[0mdf_strategy\u001b[0m\u001b[1;33m.\u001b[0m\u001b[0mhead\u001b[0m\u001b[1;33m(\u001b[0m\u001b[1;36m5\u001b[0m\u001b[1;33m)\u001b[0m\u001b[1;33m\u001b[0m\u001b[0m\n",
      "\u001b[1;32mC:\\Anaconda2\\lib\\site-packages\\pandas\\core\\groupby.pyc\u001b[0m in \u001b[0;36m__getattr__\u001b[1;34m(self, attr)\u001b[0m\n\u001b[0;32m    554\u001b[0m             \u001b[1;32mreturn\u001b[0m \u001b[0mself\u001b[0m\u001b[1;33m[\u001b[0m\u001b[0mattr\u001b[0m\u001b[1;33m]\u001b[0m\u001b[1;33m\u001b[0m\u001b[0m\n\u001b[0;32m    555\u001b[0m         \u001b[1;32mif\u001b[0m \u001b[0mhasattr\u001b[0m\u001b[1;33m(\u001b[0m\u001b[0mself\u001b[0m\u001b[1;33m.\u001b[0m\u001b[0mobj\u001b[0m\u001b[1;33m,\u001b[0m \u001b[0mattr\u001b[0m\u001b[1;33m)\u001b[0m\u001b[1;33m:\u001b[0m\u001b[1;33m\u001b[0m\u001b[0m\n\u001b[1;32m--> 556\u001b[1;33m             \u001b[1;32mreturn\u001b[0m \u001b[0mself\u001b[0m\u001b[1;33m.\u001b[0m\u001b[0m_make_wrapper\u001b[0m\u001b[1;33m(\u001b[0m\u001b[0mattr\u001b[0m\u001b[1;33m)\u001b[0m\u001b[1;33m\u001b[0m\u001b[0m\n\u001b[0m\u001b[0;32m    557\u001b[0m \u001b[1;33m\u001b[0m\u001b[0m\n\u001b[0;32m    558\u001b[0m         raise AttributeError(\"%r object has no attribute %r\" %\n",
      "\u001b[1;32mC:\\Anaconda2\\lib\\site-packages\\pandas\\core\\groupby.pyc\u001b[0m in \u001b[0;36m_make_wrapper\u001b[1;34m(self, name)\u001b[0m\n\u001b[0;32m    571\u001b[0m                    \"using the 'apply' method\".format(kind, name,\n\u001b[0;32m    572\u001b[0m                                                      type(self).__name__))\n\u001b[1;32m--> 573\u001b[1;33m             \u001b[1;32mraise\u001b[0m \u001b[0mAttributeError\u001b[0m\u001b[1;33m(\u001b[0m\u001b[0mmsg\u001b[0m\u001b[1;33m)\u001b[0m\u001b[1;33m\u001b[0m\u001b[0m\n\u001b[0m\u001b[0;32m    574\u001b[0m \u001b[1;33m\u001b[0m\u001b[0m\n\u001b[0;32m    575\u001b[0m         \u001b[1;31m# need to setup the selection\u001b[0m\u001b[1;33m\u001b[0m\u001b[1;33m\u001b[0m\u001b[0m\n",
      "\u001b[1;31mAttributeError\u001b[0m: Cannot access callable attribute 'drop_duplicates' of 'DataFrameGroupBy' objects, try using the 'apply' method"
     ]
    }
   ],
   "source": [
    "df_strategy = df[['Strategy', 'Strategy name', 'Global Book name', 'Line of Business', 'Book Name', 'Portfolio name']].groupby('Strategy')\n",
    "df_strategy.drop_duplicates()\n",
    "#df_strategy.drop_duplicates()\n",
    "df_strategy.head(5)"
   ]
  },
  {
   "cell_type": "code",
   "execution_count": 49,
   "metadata": {
    "collapsed": false
   },
   "outputs": [
    {
     "data": {
      "text/plain": [
       "Consumption Date                   datetime64[ns]\n",
       "Consumption Type                           object\n",
       "Total WC Consumption period                 int64\n",
       "TTD influence on WC consumption             int64\n",
       "PDD influence on WC consumption             int64\n",
       "TTD difference                              int64\n",
       "PDD difference                              int64\n",
       "Sale Payment Terms                          int64\n",
       "Buy Payment Terms                           int64\n",
       "Consumption reason                         object\n",
       "WC Amount                                 float64\n",
       "Buy/Sell (-)                               object\n",
       "Buy/Sell (+)                               object\n",
       "Due date (-)                               object\n",
       "Due date (+)                               object\n",
       "Title transfer date (-)                    object\n",
       "Title transfer date (+)                    object\n",
       "Strategy                                    int64\n",
       "Strategy name                              object\n",
       "Company Name                               object\n",
       "Global Book name                           object\n",
       "Line of Business                           object\n",
       "Book Name                                  object\n",
       "Portfolio name                             object\n",
       "Quantity                                  float64\n",
       "Current amount in USD (+)                 float64\n",
       "Quantity BBL (ratio) (+)                  float64\n",
       "Current price, USD/BBL (+)                float64\n",
       "Counterparty (+)                           object\n",
       "Title transfer (+)                         object\n",
       "Incoterms 1 (+)                            object\n",
       "Incoterms 2 country (+)                    object\n",
       "Incoterms 2 country (+).1                  object\n",
       "Object type (+)                            object\n",
       "Delivery ID (+)                            object\n",
       "Internal type (+)                          object\n",
       "Mirror Delivery ID (+)                     object\n",
       "Current amount in USD (-)                 float64\n",
       "Quantity BBL (ratio) (-)                  float64\n",
       "Current price, USD/BBL (-)                float64\n",
       "Counterparty (-)                           object\n",
       "Title transfer (-)                         object\n",
       "Incoterms 1 (-)                            object\n",
       "Incoterms 2 country (-)                    object\n",
       "Incoterms 2 country (-).1                  object\n",
       "Object type (-)                            object\n",
       "Delivery ID (-)                            object\n",
       "Internal type (-)                          object\n",
       "Mirror Delivery ID (-)                     object\n",
       "Strategy start date                datetime64[ns]\n",
       "Strategy end date                          object\n",
       "Voyage ID (+)                              object\n",
       "Transport name (+)                         object\n",
       "Grade (+)                                  object\n",
       "Voyage ID (-)                              object\n",
       "Transport name (-)                         object\n",
       "Grade (-)                                  object\n",
       "dtype: object"
      ]
     },
     "execution_count": 49,
     "metadata": {},
     "output_type": "execute_result"
    }
   ],
   "source": [
    "df.dtypes"
   ]
  },
  {
   "cell_type": "code",
   "execution_count": null,
   "metadata": {
    "collapsed": true
   },
   "outputs": [],
   "source": []
  }
 ],
 "metadata": {
  "kernelspec": {
   "display_name": "Python 2",
   "language": "python",
   "name": "python2"
  },
  "language_info": {
   "codemirror_mode": {
    "name": "ipython",
    "version": 2
   },
   "file_extension": ".py",
   "mimetype": "text/x-python",
   "name": "python",
   "nbconvert_exporter": "python",
   "pygments_lexer": "ipython2",
   "version": "2.7.11"
  }
 },
 "nbformat": 4,
 "nbformat_minor": 0
}
